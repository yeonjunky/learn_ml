{
  "nbformat": 4,
  "nbformat_minor": 0,
  "metadata": {
    "colab": {
      "name": "tensorflow101.ipynb",
      "provenance": [],
      "authorship_tag": "ABX9TyN3wZffxwzjunS7VQF0jPTC"
    },
    "kernelspec": {
      "name": "python3",
      "display_name": "Python 3"
    },
    "language_info": {
      "name": "python"
    }
  },
  "cells": [
    {
      "cell_type": "code",
      "metadata": {
        "id": "ek4IUQ-d_Let"
      },
      "source": [
        "import pandas as pd\n",
        "import tensorflow as tf"
      ],
      "execution_count": 40,
      "outputs": []
    },
    {
      "cell_type": "code",
      "metadata": {
        "colab": {
          "base_uri": "https://localhost:8080/"
        },
        "id": "9CjT7Pt0_rmd",
        "outputId": "b93bdd8b-5d82-4774-9284-707228603b76"
      },
      "source": [
        "# lemonade\n",
        "\n",
        "file_path = 'https://raw.githubusercontent.com/blackdew/tensorflow1/master/csv/lemonade.csv'\n",
        "\n",
        "lemonade = pd.read_csv(file_path)\n",
        "\n",
        "temp = lemonade[['온도']]\n",
        "total = lemonade[['판매량']]\n",
        "\n",
        "# print(lemonade.head()) # 상위 5개 \n",
        "# print(lemonade.shape)\n",
        "# print(lemonade.columns)\n",
        "\n",
        "x = tf.keras.layers.Input(shape=[1]) # 독립변수의 열에 맞춰서\n",
        "y = tf.keras.layers.Dense(1)(x)\n",
        "model = tf.keras.models.Model(x, y)\n",
        "model.compile(loss='mse')\n",
        "\n",
        "model.fit(temp, total, epochs=10000, verbose=0) # verbose = 0 하면 출력 안함\n"
      ],
      "execution_count": 27,
      "outputs": [
        {
          "output_type": "execute_result",
          "data": {
            "text/plain": [
              "<keras.callbacks.History at 0x7f7468c12790>"
            ]
          },
          "metadata": {},
          "execution_count": 27
        }
      ]
    },
    {
      "cell_type": "code",
      "metadata": {
        "colab": {
          "base_uri": "https://localhost:8080/"
        },
        "id": "h3e1G1EU87gK",
        "outputId": "3b423497-a442-4371-c410-dd1b676f5a69"
      },
      "source": [
        "# 만들어진 모델로 예측\n",
        "\n",
        "print(model.predict(temp))\n",
        "print(model.predict([[12]]))"
      ],
      "execution_count": 30,
      "outputs": [
        {
          "output_type": "stream",
          "name": "stdout",
          "text": [
            "[[40.02848 ]\n",
            " [42.02213 ]\n",
            " [44.015774]\n",
            " [46.00942 ]\n",
            " [48.003063]\n",
            " [49.996708]]\n",
            "[[24.079317]]\n"
          ]
        }
      ]
    },
    {
      "cell_type": "code",
      "metadata": {
        "colab": {
          "base_uri": "https://localhost:8080/"
        },
        "id": "dDQc4Bt7ANJA",
        "outputId": "43aadbb6-9826-4ae7-c51e-53cff6d2d4c8"
      },
      "source": [
        "# boston\n",
        "\n",
        "file_path = 'https://raw.githubusercontent.com/blackdew/tensorflow1/master/csv/boston.csv'\n",
        "\n",
        "boston = pd.read_csv(file_path)\n",
        "args = boston[['crim', 'zn', 'indus', 'chas', 'nox', 'rm', 'age', 'dis', 'rad', 'tax',\n",
        "       'ptratio', 'b', 'lstat']]\n",
        "medv = boston[['medv']]\n",
        "\n",
        "# print(boston.columns)\n",
        "\n",
        "\n",
        "x = tf.keras.layers.Input(shape=[13])\n",
        "y = tf.keras.layers.Dense(1)(x)\n",
        "\n",
        "model = tf.keras.models.Model(x, y)\n",
        "model.compile(loss='mse')\n",
        "\n",
        "model.fit(args, medv, epochs=1000, verbose=0)\n",
        "model.fit(args, medv, epochs=10)\n"
      ],
      "execution_count": 36,
      "outputs": [
        {
          "output_type": "stream",
          "name": "stdout",
          "text": [
            "Epoch 1/10\n",
            "16/16 [==============================] - 0s 1ms/step - loss: 26.8903\n",
            "Epoch 2/10\n",
            "16/16 [==============================] - 0s 2ms/step - loss: 26.1154\n",
            "Epoch 3/10\n",
            "16/16 [==============================] - 0s 2ms/step - loss: 26.2855\n",
            "Epoch 4/10\n",
            "16/16 [==============================] - 0s 1ms/step - loss: 26.1618\n",
            "Epoch 5/10\n",
            "16/16 [==============================] - 0s 1ms/step - loss: 26.5257\n",
            "Epoch 6/10\n",
            "16/16 [==============================] - 0s 1ms/step - loss: 26.3087\n",
            "Epoch 7/10\n",
            "16/16 [==============================] - 0s 1ms/step - loss: 26.4094\n",
            "Epoch 8/10\n",
            "16/16 [==============================] - 0s 1ms/step - loss: 26.5908\n",
            "Epoch 9/10\n",
            "16/16 [==============================] - 0s 1ms/step - loss: 26.7580\n",
            "Epoch 10/10\n",
            "16/16 [==============================] - 0s 1ms/step - loss: 25.9408\n"
          ]
        },
        {
          "output_type": "execute_result",
          "data": {
            "text/plain": [
              "<keras.callbacks.History at 0x7f7461f2aa50>"
            ]
          },
          "metadata": {},
          "execution_count": 36
        }
      ]
    },
    {
      "cell_type": "code",
      "metadata": {
        "colab": {
          "base_uri": "https://localhost:8080/"
        },
        "id": "RHBM_CDTCNlj",
        "outputId": "51c9e6bc-76f9-4130-c687-a3f27ab53fb1"
      },
      "source": [
        "print(model.predict(args[5:10]))\n",
        "print(medv[5:10])"
      ],
      "execution_count": 37,
      "outputs": [
        {
          "output_type": "stream",
          "name": "stdout",
          "text": [
            "[[27.240393 ]\n",
            " [22.32729  ]\n",
            " [19.292307 ]\n",
            " [10.6482315]\n",
            " [18.929764 ]]\n",
            "   medv\n",
            "5  28.7\n",
            "6  22.9\n",
            "7  27.1\n",
            "8  16.5\n",
            "9  18.9\n"
          ]
        }
      ]
    },
    {
      "cell_type": "code",
      "metadata": {
        "colab": {
          "base_uri": "https://localhost:8080/"
        },
        "id": "yPUvaEkRDAPF",
        "outputId": "62a45d42-59fa-4572-c223-c00a0caa00d8"
      },
      "source": [
        "print(model.get_weights())"
      ],
      "execution_count": 38,
      "outputs": [
        {
          "output_type": "stream",
          "name": "stdout",
          "text": [
            "[array([[-0.08575389],\n",
            "       [ 0.070659  ],\n",
            "       [-0.05017478],\n",
            "       [ 3.392261  ],\n",
            "       [ 1.7456608 ],\n",
            "       [ 3.9013145 ],\n",
            "       [ 0.01982425],\n",
            "       [-0.82517725],\n",
            "       [ 0.15340585],\n",
            "       [-0.00772255],\n",
            "       [-0.00771276],\n",
            "       [ 0.01718756],\n",
            "       [-0.5862662 ]], dtype=float32), array([2.9849796], dtype=float32)]\n"
          ]
        }
      ]
    },
    {
      "cell_type": "code",
      "metadata": {
        "colab": {
          "base_uri": "https://localhost:8080/"
        },
        "id": "Ax8jBErYB4rU",
        "outputId": "89c0cca4-c81e-465d-c1e9-7d1af8ee5f01"
      },
      "source": [
        "# iris\n",
        "\n",
        "file_path = 'https://raw.githubusercontent.com/blackdew/tensorflow1/master/csv/iris.csv'\n",
        "\n",
        "iris = pd.read_csv(file_path)\n",
        "iris = pd.get_dummies(iris)\n",
        "\n",
        "args = iris[['꽃잎길이', '꽃잎폭', '꽃받침길이', '꽃받침폭']]\n",
        "dependent = iris[['품종_setosa', '품종_versicolor', '품종_virginica']] # 위 예제와는 다른 범주형 데이터 -> 분류\n",
        "\n",
        "x = tf.keras.layers.Input(shape=[4])\n",
        "y = tf.keras.layers.Dense(3, activation='softmax')(x)\n",
        "\n",
        "model = tf.keras.models.Model(x, y)\n",
        "model.compile(loss='categorical_crossentropy', metrics='accuracy')\n",
        "\n",
        "model.fit(args, dependent, epochs=700, verbose=0)\n",
        "model.fit(args, dependent, epochs=10)\n"
      ],
      "execution_count": 61,
      "outputs": [
        {
          "output_type": "stream",
          "name": "stdout",
          "text": [
            "Epoch 1/10\n",
            "5/5 [==============================] - 0s 2ms/step - loss: 0.2008 - accuracy: 0.9733\n",
            "Epoch 2/10\n",
            "5/5 [==============================] - 0s 2ms/step - loss: 0.2008 - accuracy: 0.9800\n",
            "Epoch 3/10\n",
            "5/5 [==============================] - 0s 2ms/step - loss: 0.2011 - accuracy: 0.9800\n",
            "Epoch 4/10\n",
            "5/5 [==============================] - 0s 2ms/step - loss: 0.1999 - accuracy: 0.9800\n",
            "Epoch 5/10\n",
            "5/5 [==============================] - 0s 2ms/step - loss: 0.2001 - accuracy: 0.9800\n",
            "Epoch 6/10\n",
            "5/5 [==============================] - 0s 3ms/step - loss: 0.1995 - accuracy: 0.9800\n",
            "Epoch 7/10\n",
            "5/5 [==============================] - 0s 3ms/step - loss: 0.1994 - accuracy: 0.9800\n",
            "Epoch 8/10\n",
            "5/5 [==============================] - 0s 2ms/step - loss: 0.1992 - accuracy: 0.9800\n",
            "Epoch 9/10\n",
            "5/5 [==============================] - 0s 2ms/step - loss: 0.1997 - accuracy: 0.9733\n",
            "Epoch 10/10\n",
            "5/5 [==============================] - 0s 2ms/step - loss: 0.1987 - accuracy: 0.9800\n"
          ]
        },
        {
          "output_type": "execute_result",
          "data": {
            "text/plain": [
              "<keras.callbacks.History at 0x7f7469009a10>"
            ]
          },
          "metadata": {},
          "execution_count": 61
        }
      ]
    },
    {
      "cell_type": "code",
      "metadata": {
        "colab": {
          "base_uri": "https://localhost:8080/"
        },
        "id": "UV7OHUyoc26k",
        "outputId": "7f1a24d2-7ee8-4767-f139-3bd12306f5db"
      },
      "source": [
        "print(model.predict(args[:10]))\n",
        "print(dependent[:10])"
      ],
      "execution_count": 63,
      "outputs": [
        {
          "output_type": "stream",
          "name": "stdout",
          "text": [
            "[[9.9502230e-01 4.9742409e-03 3.4954003e-06]\n",
            " [9.8278058e-01 1.7197894e-02 2.1609050e-05]\n",
            " [9.9229807e-01 7.6931622e-03 8.7777889e-06]\n",
            " [9.8473084e-01 1.5242699e-02 2.6377489e-05]\n",
            " [9.9627942e-01 3.7179668e-03 2.6468238e-06]\n",
            " [9.9475729e-01 5.2378648e-03 4.8034203e-06]\n",
            " [9.9344856e-01 6.5413928e-03 1.0101882e-05]\n",
            " [9.9211991e-01 7.8726886e-03 7.4234335e-06]\n",
            " [9.8073739e-01 1.9221060e-02 4.1479692e-05]\n",
            " [9.8579526e-01 1.4190205e-02 1.4548635e-05]]\n",
            "   품종_setosa  품종_versicolor  품종_virginica\n",
            "0          1              0             0\n",
            "1          1              0             0\n",
            "2          1              0             0\n",
            "3          1              0             0\n",
            "4          1              0             0\n",
            "5          1              0             0\n",
            "6          1              0             0\n",
            "7          1              0             0\n",
            "8          1              0             0\n",
            "9          1              0             0\n"
          ]
        }
      ]
    },
    {
      "cell_type": "code",
      "metadata": {
        "colab": {
          "base_uri": "https://localhost:8080/"
        },
        "id": "kdOzJGkngwak",
        "outputId": "38736619-fe91-49ea-e855-b991343d3369"
      },
      "source": [
        "# hidden layer\n",
        "\n",
        "file_path = 'https://raw.githubusercontent.com/blackdew/tensorflow1/master/csv/boston.csv'\n",
        "\n",
        "boston = pd.read_csv(file_path)\n",
        "args = boston[['crim', 'zn', 'indus', 'chas', 'nox', 'rm', 'age', 'dis', 'rad', 'tax',\n",
        "       'ptratio', 'b', 'lstat']]\n",
        "medv = boston[['medv']]\n",
        "\n",
        "print(args.shape, medv.shape)"
      ],
      "execution_count": 64,
      "outputs": [
        {
          "output_type": "stream",
          "name": "stdout",
          "text": [
            "(506, 13) (506, 1)\n"
          ]
        }
      ]
    },
    {
      "cell_type": "code",
      "metadata": {
        "id": "Hvrq3hCShBJ-"
      },
      "source": [
        "x = tf.keras.layers.Input(shape=[13])\n",
        "h = tf.keras.layers.Dense(10, activation='swish')(x)\n",
        "h = tf.keras.layers.Dense(10, activation='swish')(h)\n",
        "h = tf.keras.layers.Dense(10, activation='swish')(h)\n",
        "y = tf.keras.layers.Dense(1)(h)\n",
        "\n",
        "model = tf.keras.models.Model(x, y)\n",
        "model.compile(loss='mse')"
      ],
      "execution_count": 73,
      "outputs": []
    },
    {
      "cell_type": "code",
      "metadata": {
        "colab": {
          "base_uri": "https://localhost:8080/"
        },
        "id": "tWAHIzljhjhw",
        "outputId": "ba8a2d5d-0cce-450e-9ab6-383d82c7c434"
      },
      "source": [
        "model.summary() # param -> (가중치 w 13개 + b 1개) * 10, w 10개 b 1개 "
      ],
      "execution_count": 74,
      "outputs": [
        {
          "output_type": "stream",
          "name": "stdout",
          "text": [
            "Model: \"model_23\"\n",
            "_________________________________________________________________\n",
            "Layer (type)                 Output Shape              Param #   \n",
            "=================================================================\n",
            "input_24 (InputLayer)        [(None, 13)]              0         \n",
            "_________________________________________________________________\n",
            "dense_24 (Dense)             (None, 10)                140       \n",
            "_________________________________________________________________\n",
            "dense_25 (Dense)             (None, 10)                110       \n",
            "_________________________________________________________________\n",
            "dense_26 (Dense)             (None, 10)                110       \n",
            "_________________________________________________________________\n",
            "dense_27 (Dense)             (None, 1)                 11        \n",
            "=================================================================\n",
            "Total params: 371\n",
            "Trainable params: 371\n",
            "Non-trainable params: 0\n",
            "_________________________________________________________________\n"
          ]
        }
      ]
    },
    {
      "cell_type": "code",
      "metadata": {
        "colab": {
          "base_uri": "https://localhost:8080/"
        },
        "id": "4Gj5i3M5iMpo",
        "outputId": "2e616b87-8b14-4ec4-c2a6-d0b0dd97e93b"
      },
      "source": [
        "model.fit(args, medv, epochs=1000, verbose=0)\n",
        "model.fit(args, medv, epochs=10)"
      ],
      "execution_count": 75,
      "outputs": [
        {
          "output_type": "stream",
          "name": "stdout",
          "text": [
            "Epoch 1/10\n",
            "16/16 [==============================] - 0s 2ms/step - loss: 12.5637\n",
            "Epoch 2/10\n",
            "16/16 [==============================] - 0s 1ms/step - loss: 12.5852\n",
            "Epoch 3/10\n",
            "16/16 [==============================] - 0s 1ms/step - loss: 11.9265\n",
            "Epoch 4/10\n",
            "16/16 [==============================] - 0s 2ms/step - loss: 13.2738\n",
            "Epoch 5/10\n",
            "16/16 [==============================] - 0s 1ms/step - loss: 12.1639\n",
            "Epoch 6/10\n",
            "16/16 [==============================] - 0s 2ms/step - loss: 12.4456\n",
            "Epoch 7/10\n",
            "16/16 [==============================] - 0s 1ms/step - loss: 12.2402\n",
            "Epoch 8/10\n",
            "16/16 [==============================] - 0s 2ms/step - loss: 13.4308\n",
            "Epoch 9/10\n",
            "16/16 [==============================] - 0s 2ms/step - loss: 12.3429\n",
            "Epoch 10/10\n",
            "16/16 [==============================] - 0s 2ms/step - loss: 13.2604\n"
          ]
        },
        {
          "output_type": "execute_result",
          "data": {
            "text/plain": [
              "<keras.callbacks.History at 0x7f745f31ad10>"
            ]
          },
          "metadata": {},
          "execution_count": 75
        }
      ]
    },
    {
      "cell_type": "code",
      "metadata": {
        "colab": {
          "base_uri": "https://localhost:8080/"
        },
        "id": "FoE_Wd0UibCV",
        "outputId": "4f8c56ee-ff1b-4748-e453-210acd1c3a59"
      },
      "source": [
        "print(model.predict(args[:10]))\n",
        "print(medv[:10])"
      ],
      "execution_count": 76,
      "outputs": [
        {
          "output_type": "stream",
          "name": "stdout",
          "text": [
            "[[32.402786]\n",
            " [21.868214]\n",
            " [29.75782 ]\n",
            " [35.568455]\n",
            " [31.110481]\n",
            " [29.633266]\n",
            " [20.848156]\n",
            " [17.227358]\n",
            " [14.842763]\n",
            " [17.687088]]\n",
            "   medv\n",
            "0  24.0\n",
            "1  21.6\n",
            "2  34.7\n",
            "3  33.4\n",
            "4  36.2\n",
            "5  28.7\n",
            "6  22.9\n",
            "7  27.1\n",
            "8  16.5\n",
            "9  18.9\n"
          ]
        }
      ]
    },
    {
      "cell_type": "code",
      "metadata": {
        "id": "VzC92VxrjtgV"
      },
      "source": [
        "file_path = 'https://raw.githubusercontent.com/blackdew/tensorflow1/master/csv/iris.csv'\n",
        "\n",
        "iris = pd.read_csv(file_path)\n",
        "iris = pd.get_dummies(iris)\n",
        "\n",
        "args = iris[['꽃잎길이', '꽃잎폭', '꽃받침길이', '꽃받침폭']]\n",
        "dependent = iris[['품종_setosa', '품종_versicolor', '품종_virginica']]"
      ],
      "execution_count": 77,
      "outputs": []
    },
    {
      "cell_type": "code",
      "metadata": {
        "id": "zYSzFgDHjvty"
      },
      "source": [
        "x = tf.keras.layers.Input(shape=[4])\n",
        "h = tf.keras.layers.Dense(8, activation='swish')(x)\n",
        "h = tf.keras.layers.Dense(8, activation='swish')(h)\n",
        "h = tf.keras.layers.Dense(8, activation='swish')(h)\n",
        "y = tf.keras.layers.Dense(3, activation='softmax')(h)\n",
        "\n",
        "model = tf.keras.models.Model(x, y)\n",
        "model.compile(loss='categorical_crossentropy', metrics='accuracy')"
      ],
      "execution_count": 79,
      "outputs": []
    },
    {
      "cell_type": "code",
      "metadata": {
        "colab": {
          "base_uri": "https://localhost:8080/"
        },
        "id": "UrxvtDizka_9",
        "outputId": "3b1b78ce-fae2-4ec8-9009-f25d5eb17cea"
      },
      "source": [
        "print(model.summary())"
      ],
      "execution_count": 82,
      "outputs": [
        {
          "output_type": "stream",
          "name": "stdout",
          "text": [
            "Model: \"model_25\"\n",
            "_________________________________________________________________\n",
            "Layer (type)                 Output Shape              Param #   \n",
            "=================================================================\n",
            "input_26 (InputLayer)        [(None, 4)]               0         \n",
            "_________________________________________________________________\n",
            "dense_32 (Dense)             (None, 8)                 40        \n",
            "_________________________________________________________________\n",
            "dense_33 (Dense)             (None, 8)                 72        \n",
            "_________________________________________________________________\n",
            "dense_34 (Dense)             (None, 8)                 72        \n",
            "_________________________________________________________________\n",
            "dense_35 (Dense)             (None, 3)                 27        \n",
            "=================================================================\n",
            "Total params: 211\n",
            "Trainable params: 211\n",
            "Non-trainable params: 0\n",
            "_________________________________________________________________\n",
            "None\n"
          ]
        }
      ]
    },
    {
      "cell_type": "code",
      "metadata": {
        "colab": {
          "base_uri": "https://localhost:8080/"
        },
        "id": "dGtYklEmkvsb",
        "outputId": "75829984-b77d-40b0-cc1b-43a76a71d0ec"
      },
      "source": [
        "model.fit(args, dependent, epochs=100)"
      ],
      "execution_count": 83,
      "outputs": [
        {
          "output_type": "stream",
          "name": "stdout",
          "text": [
            "Epoch 1/100\n",
            "5/5 [==============================] - 1s 3ms/step - loss: 1.1463 - accuracy: 0.3333\n",
            "Epoch 2/100\n",
            "5/5 [==============================] - 0s 5ms/step - loss: 1.1293 - accuracy: 0.3333\n",
            "Epoch 3/100\n",
            "5/5 [==============================] - 0s 4ms/step - loss: 1.1163 - accuracy: 0.3333\n",
            "Epoch 4/100\n",
            "5/5 [==============================] - 0s 3ms/step - loss: 1.1074 - accuracy: 0.3333\n",
            "Epoch 5/100\n",
            "5/5 [==============================] - 0s 3ms/step - loss: 1.0974 - accuracy: 0.3333\n",
            "Epoch 6/100\n",
            "5/5 [==============================] - 0s 3ms/step - loss: 1.0867 - accuracy: 0.4600\n",
            "Epoch 7/100\n",
            "5/5 [==============================] - 0s 3ms/step - loss: 1.0755 - accuracy: 0.6267\n",
            "Epoch 8/100\n",
            "5/5 [==============================] - 0s 4ms/step - loss: 1.0625 - accuracy: 0.6667\n",
            "Epoch 9/100\n",
            "5/5 [==============================] - 0s 6ms/step - loss: 1.0473 - accuracy: 0.6667\n",
            "Epoch 10/100\n",
            "5/5 [==============================] - 0s 3ms/step - loss: 1.0303 - accuracy: 0.6667\n",
            "Epoch 11/100\n",
            "5/5 [==============================] - 0s 3ms/step - loss: 1.0101 - accuracy: 0.6400\n",
            "Epoch 12/100\n",
            "5/5 [==============================] - 0s 4ms/step - loss: 0.9880 - accuracy: 0.6400\n",
            "Epoch 13/100\n",
            "5/5 [==============================] - 0s 3ms/step - loss: 0.9622 - accuracy: 0.6467\n",
            "Epoch 14/100\n",
            "5/5 [==============================] - 0s 3ms/step - loss: 0.9344 - accuracy: 0.6533\n",
            "Epoch 15/100\n",
            "5/5 [==============================] - 0s 3ms/step - loss: 0.9044 - accuracy: 0.6600\n",
            "Epoch 16/100\n",
            "5/5 [==============================] - 0s 3ms/step - loss: 0.8736 - accuracy: 0.6467\n",
            "Epoch 17/100\n",
            "5/5 [==============================] - 0s 4ms/step - loss: 0.8433 - accuracy: 0.6600\n",
            "Epoch 18/100\n",
            "5/5 [==============================] - 0s 3ms/step - loss: 0.8126 - accuracy: 0.6600\n",
            "Epoch 19/100\n",
            "5/5 [==============================] - 0s 3ms/step - loss: 0.7830 - accuracy: 0.6667\n",
            "Epoch 20/100\n",
            "5/5 [==============================] - 0s 4ms/step - loss: 0.7560 - accuracy: 0.6667\n",
            "Epoch 21/100\n",
            "5/5 [==============================] - 0s 3ms/step - loss: 0.7292 - accuracy: 0.6667\n",
            "Epoch 22/100\n",
            "5/5 [==============================] - 0s 4ms/step - loss: 0.7036 - accuracy: 0.6667\n",
            "Epoch 23/100\n",
            "5/5 [==============================] - 0s 4ms/step - loss: 0.6805 - accuracy: 0.6667\n",
            "Epoch 24/100\n",
            "5/5 [==============================] - 0s 4ms/step - loss: 0.6579 - accuracy: 0.6667\n",
            "Epoch 25/100\n",
            "5/5 [==============================] - 0s 3ms/step - loss: 0.6367 - accuracy: 0.6667\n",
            "Epoch 26/100\n",
            "5/5 [==============================] - 0s 3ms/step - loss: 0.6165 - accuracy: 0.6667\n",
            "Epoch 27/100\n",
            "5/5 [==============================] - 0s 3ms/step - loss: 0.5986 - accuracy: 0.6667\n",
            "Epoch 28/100\n",
            "5/5 [==============================] - 0s 5ms/step - loss: 0.5818 - accuracy: 0.6667\n",
            "Epoch 29/100\n",
            "5/5 [==============================] - 0s 3ms/step - loss: 0.5651 - accuracy: 0.6667\n",
            "Epoch 30/100\n",
            "5/5 [==============================] - 0s 3ms/step - loss: 0.5503 - accuracy: 0.6667\n",
            "Epoch 31/100\n",
            "5/5 [==============================] - 0s 3ms/step - loss: 0.5350 - accuracy: 0.6667\n",
            "Epoch 32/100\n",
            "5/5 [==============================] - 0s 4ms/step - loss: 0.5221 - accuracy: 0.7800\n",
            "Epoch 33/100\n",
            "5/5 [==============================] - 0s 3ms/step - loss: 0.5092 - accuracy: 0.8867\n",
            "Epoch 34/100\n",
            "5/5 [==============================] - 0s 3ms/step - loss: 0.4976 - accuracy: 0.9400\n",
            "Epoch 35/100\n",
            "5/5 [==============================] - 0s 4ms/step - loss: 0.4865 - accuracy: 0.7733\n",
            "Epoch 36/100\n",
            "5/5 [==============================] - 0s 4ms/step - loss: 0.4764 - accuracy: 0.8067\n",
            "Epoch 37/100\n",
            "5/5 [==============================] - 0s 3ms/step - loss: 0.4668 - accuracy: 0.7867\n",
            "Epoch 38/100\n",
            "5/5 [==============================] - 0s 3ms/step - loss: 0.4591 - accuracy: 0.7867\n",
            "Epoch 39/100\n",
            "5/5 [==============================] - 0s 3ms/step - loss: 0.4496 - accuracy: 0.7867\n",
            "Epoch 40/100\n",
            "5/5 [==============================] - 0s 4ms/step - loss: 0.4406 - accuracy: 0.8067\n",
            "Epoch 41/100\n",
            "5/5 [==============================] - 0s 4ms/step - loss: 0.4317 - accuracy: 0.8533\n",
            "Epoch 42/100\n",
            "5/5 [==============================] - 0s 4ms/step - loss: 0.4232 - accuracy: 0.8533\n",
            "Epoch 43/100\n",
            "5/5 [==============================] - 0s 3ms/step - loss: 0.4139 - accuracy: 0.9000\n",
            "Epoch 44/100\n",
            "5/5 [==============================] - 0s 3ms/step - loss: 0.4060 - accuracy: 0.9467\n",
            "Epoch 45/100\n",
            "5/5 [==============================] - 0s 4ms/step - loss: 0.3980 - accuracy: 0.9333\n",
            "Epoch 46/100\n",
            "5/5 [==============================] - 0s 4ms/step - loss: 0.3868 - accuracy: 0.9467\n",
            "Epoch 47/100\n",
            "5/5 [==============================] - 0s 3ms/step - loss: 0.3771 - accuracy: 0.9600\n",
            "Epoch 48/100\n",
            "5/5 [==============================] - 0s 3ms/step - loss: 0.3677 - accuracy: 0.9533\n",
            "Epoch 49/100\n",
            "5/5 [==============================] - 0s 4ms/step - loss: 0.3576 - accuracy: 0.9533\n",
            "Epoch 50/100\n",
            "5/5 [==============================] - 0s 3ms/step - loss: 0.3471 - accuracy: 0.9733\n",
            "Epoch 51/100\n",
            "5/5 [==============================] - 0s 3ms/step - loss: 0.3386 - accuracy: 0.9600\n",
            "Epoch 52/100\n",
            "5/5 [==============================] - 0s 4ms/step - loss: 0.3283 - accuracy: 0.9600\n",
            "Epoch 53/100\n",
            "5/5 [==============================] - 0s 4ms/step - loss: 0.3174 - accuracy: 0.9867\n",
            "Epoch 54/100\n",
            "5/5 [==============================] - 0s 6ms/step - loss: 0.3088 - accuracy: 0.9667\n",
            "Epoch 55/100\n",
            "5/5 [==============================] - 0s 3ms/step - loss: 0.2998 - accuracy: 0.9733\n",
            "Epoch 56/100\n",
            "5/5 [==============================] - 0s 3ms/step - loss: 0.2887 - accuracy: 0.9800\n",
            "Epoch 57/100\n",
            "5/5 [==============================] - 0s 3ms/step - loss: 0.2821 - accuracy: 0.9667\n",
            "Epoch 58/100\n",
            "5/5 [==============================] - 0s 3ms/step - loss: 0.2736 - accuracy: 0.9867\n",
            "Epoch 59/100\n",
            "5/5 [==============================] - 0s 5ms/step - loss: 0.2636 - accuracy: 0.9733\n",
            "Epoch 60/100\n",
            "5/5 [==============================] - 0s 3ms/step - loss: 0.2585 - accuracy: 0.9667\n",
            "Epoch 61/100\n",
            "5/5 [==============================] - 0s 3ms/step - loss: 0.2491 - accuracy: 0.9733\n",
            "Epoch 62/100\n",
            "5/5 [==============================] - 0s 3ms/step - loss: 0.2404 - accuracy: 0.9800\n",
            "Epoch 63/100\n",
            "5/5 [==============================] - 0s 3ms/step - loss: 0.2330 - accuracy: 0.9667\n",
            "Epoch 64/100\n",
            "5/5 [==============================] - 0s 4ms/step - loss: 0.2246 - accuracy: 0.9733\n",
            "Epoch 65/100\n",
            "5/5 [==============================] - 0s 4ms/step - loss: 0.2224 - accuracy: 0.9667\n",
            "Epoch 66/100\n",
            "5/5 [==============================] - 0s 3ms/step - loss: 0.2149 - accuracy: 0.9800\n",
            "Epoch 67/100\n",
            "5/5 [==============================] - 0s 4ms/step - loss: 0.2071 - accuracy: 0.9867\n",
            "Epoch 68/100\n",
            "5/5 [==============================] - 0s 4ms/step - loss: 0.1993 - accuracy: 0.9733\n",
            "Epoch 69/100\n",
            "5/5 [==============================] - 0s 3ms/step - loss: 0.1938 - accuracy: 0.9867\n",
            "Epoch 70/100\n",
            "5/5 [==============================] - 0s 6ms/step - loss: 0.1895 - accuracy: 0.9800\n",
            "Epoch 71/100\n",
            "5/5 [==============================] - 0s 4ms/step - loss: 0.1820 - accuracy: 0.9800\n",
            "Epoch 72/100\n",
            "5/5 [==============================] - 0s 5ms/step - loss: 0.1755 - accuracy: 0.9800\n",
            "Epoch 73/100\n",
            "5/5 [==============================] - 0s 3ms/step - loss: 0.1742 - accuracy: 0.9600\n",
            "Epoch 74/100\n",
            "5/5 [==============================] - 0s 4ms/step - loss: 0.1679 - accuracy: 0.9733\n",
            "Epoch 75/100\n",
            "5/5 [==============================] - 0s 4ms/step - loss: 0.1626 - accuracy: 0.9800\n",
            "Epoch 76/100\n",
            "5/5 [==============================] - 0s 3ms/step - loss: 0.1575 - accuracy: 0.9733\n",
            "Epoch 77/100\n",
            "5/5 [==============================] - 0s 3ms/step - loss: 0.1529 - accuracy: 0.9667\n",
            "Epoch 78/100\n",
            "5/5 [==============================] - 0s 3ms/step - loss: 0.1477 - accuracy: 0.9800\n",
            "Epoch 79/100\n",
            "5/5 [==============================] - 0s 3ms/step - loss: 0.1489 - accuracy: 0.9733\n",
            "Epoch 80/100\n",
            "5/5 [==============================] - 0s 3ms/step - loss: 0.1409 - accuracy: 0.9733\n",
            "Epoch 81/100\n",
            "5/5 [==============================] - 0s 3ms/step - loss: 0.1357 - accuracy: 0.9800\n",
            "Epoch 82/100\n",
            "5/5 [==============================] - 0s 3ms/step - loss: 0.1382 - accuracy: 0.9733\n",
            "Epoch 83/100\n",
            "5/5 [==============================] - 0s 4ms/step - loss: 0.1324 - accuracy: 0.9733\n",
            "Epoch 84/100\n",
            "5/5 [==============================] - 0s 4ms/step - loss: 0.1296 - accuracy: 0.9733\n",
            "Epoch 85/100\n",
            "5/5 [==============================] - 0s 4ms/step - loss: 0.1249 - accuracy: 0.9800\n",
            "Epoch 86/100\n",
            "5/5 [==============================] - 0s 4ms/step - loss: 0.1230 - accuracy: 0.9733\n",
            "Epoch 87/100\n",
            "5/5 [==============================] - 0s 4ms/step - loss: 0.1171 - accuracy: 0.9800\n",
            "Epoch 88/100\n",
            "5/5 [==============================] - 0s 3ms/step - loss: 0.1190 - accuracy: 0.9733\n",
            "Epoch 89/100\n",
            "5/5 [==============================] - 0s 4ms/step - loss: 0.1207 - accuracy: 0.9733\n",
            "Epoch 90/100\n",
            "5/5 [==============================] - 0s 3ms/step - loss: 0.1113 - accuracy: 0.9800\n",
            "Epoch 91/100\n",
            "5/5 [==============================] - 0s 4ms/step - loss: 0.1155 - accuracy: 0.9600\n",
            "Epoch 92/100\n",
            "5/5 [==============================] - 0s 3ms/step - loss: 0.1091 - accuracy: 0.9800\n",
            "Epoch 93/100\n",
            "5/5 [==============================] - 0s 4ms/step - loss: 0.1052 - accuracy: 0.9733\n",
            "Epoch 94/100\n",
            "5/5 [==============================] - 0s 4ms/step - loss: 0.1053 - accuracy: 0.9800\n",
            "Epoch 95/100\n",
            "5/5 [==============================] - 0s 4ms/step - loss: 0.1054 - accuracy: 0.9867\n",
            "Epoch 96/100\n",
            "5/5 [==============================] - 0s 3ms/step - loss: 0.0995 - accuracy: 0.9800\n",
            "Epoch 97/100\n",
            "5/5 [==============================] - 0s 4ms/step - loss: 0.0978 - accuracy: 0.9733\n",
            "Epoch 98/100\n",
            "5/5 [==============================] - 0s 4ms/step - loss: 0.0984 - accuracy: 0.9733\n",
            "Epoch 99/100\n",
            "5/5 [==============================] - 0s 4ms/step - loss: 0.1000 - accuracy: 0.9800\n",
            "Epoch 100/100\n",
            "5/5 [==============================] - 0s 3ms/step - loss: 0.0976 - accuracy: 0.9733\n"
          ]
        },
        {
          "output_type": "execute_result",
          "data": {
            "text/plain": [
              "<keras.callbacks.History at 0x7f745f25f110>"
            ]
          },
          "metadata": {},
          "execution_count": 83
        }
      ]
    },
    {
      "cell_type": "code",
      "metadata": {
        "colab": {
          "base_uri": "https://localhost:8080/"
        },
        "id": "8FJkW9uAk94C",
        "outputId": "a7c69ee2-d1f6-47a2-8efa-edf645b6a18a"
      },
      "source": [
        "print(model.predict(args[10:20]))\n",
        "print(dependent[10:20])"
      ],
      "execution_count": 84,
      "outputs": [
        {
          "output_type": "stream",
          "name": "stdout",
          "text": [
            "[[9.9995100e-01 4.9006172e-05 4.5284992e-10]\n",
            " [9.9960035e-01 3.9964492e-04 1.2761302e-08]\n",
            " [9.9973768e-01 2.6228308e-04 8.8070156e-09]\n",
            " [9.9983072e-01 1.6921104e-04 1.0921147e-08]\n",
            " [9.9999630e-01 3.6461349e-06 1.2442498e-11]\n",
            " [9.9998236e-01 1.7640168e-05 7.4091649e-11]\n",
            " [9.9996150e-01 3.8552793e-05 3.0344421e-10]\n",
            " [9.9985778e-01 1.4216495e-04 2.3511224e-09]\n",
            " [9.9990392e-01 9.6052936e-05 6.0859595e-10]\n",
            " [9.9989164e-01 1.0830507e-04 1.6310454e-09]]\n",
            "    품종_setosa  품종_versicolor  품종_virginica\n",
            "10          1              0             0\n",
            "11          1              0             0\n",
            "12          1              0             0\n",
            "13          1              0             0\n",
            "14          1              0             0\n",
            "15          1              0             0\n",
            "16          1              0             0\n",
            "17          1              0             0\n",
            "18          1              0             0\n",
            "19          1              0             0\n"
          ]
        }
      ]
    },
    {
      "cell_type": "code",
      "metadata": {
        "colab": {
          "base_uri": "https://localhost:8080/"
        },
        "id": "_QlXwwF3oDEn",
        "outputId": "54d94045-5964-47d6-df33-f640370e40cd"
      },
      "source": [
        "# 숫자로 된 범주형 데이터 다루기\n",
        "\n",
        "file_path = 'https://raw.githubusercontent.com/blackdew/tensorflow1/master/csv/iris2.csv'\n",
        "\n",
        "iris = pd.read_csv(file_path)\n",
        "print(iris.dtypes)"
      ],
      "execution_count": 86,
      "outputs": [
        {
          "output_type": "stream",
          "name": "stdout",
          "text": [
            "꽃잎길이     float64\n",
            "꽃잎폭      float64\n",
            "꽃받침길이    float64\n",
            "꽃받침폭     float64\n",
            "품종         int64\n",
            "dtype: object\n"
          ]
        }
      ]
    },
    {
      "cell_type": "code",
      "metadata": {
        "colab": {
          "base_uri": "https://localhost:8080/"
        },
        "id": "3g96x5jsocXZ",
        "outputId": "3962855a-f9c8-49ce-a4a1-077fcd8f2b2d"
      },
      "source": [
        "iris['품종'] = iris['품종'].astype('category')\n",
        "print(iris.dtypes)"
      ],
      "execution_count": 90,
      "outputs": [
        {
          "output_type": "stream",
          "name": "stdout",
          "text": [
            "꽃잎길이      float64\n",
            "꽃잎폭       float64\n",
            "꽃받침길이     float64\n",
            "꽃받침폭      float64\n",
            "품종       category\n",
            "dtype: object\n"
          ]
        }
      ]
    },
    {
      "cell_type": "code",
      "metadata": {
        "colab": {
          "base_uri": "https://localhost:8080/"
        },
        "id": "W5a-waVaouEw",
        "outputId": "f4dcf420-d038-4788-8937-6a94e3055fe7"
      },
      "source": [
        "iris = pd.get_dummies(iris)\n",
        "print(iris[:10])"
      ],
      "execution_count": 92,
      "outputs": [
        {
          "output_type": "stream",
          "name": "stdout",
          "text": [
            "   꽃잎길이  꽃잎폭  꽃받침길이  꽃받침폭  품종_0  품종_1  품종_2\n",
            "0   5.1  3.5    1.4   0.2     1     0     0\n",
            "1   4.9  3.0    1.4   0.2     1     0     0\n",
            "2   4.7  3.2    1.3   0.2     1     0     0\n",
            "3   4.6  3.1    1.5   0.2     1     0     0\n",
            "4   5.0  3.6    1.4   0.2     1     0     0\n",
            "5   5.4  3.9    1.7   0.4     1     0     0\n",
            "6   4.6  3.4    1.4   0.3     1     0     0\n",
            "7   5.0  3.4    1.5   0.2     1     0     0\n",
            "8   4.4  2.9    1.4   0.2     1     0     0\n",
            "9   4.9  3.1    1.5   0.1     1     0     0\n"
          ]
        }
      ]
    },
    {
      "cell_type": "code",
      "metadata": {
        "colab": {
          "base_uri": "https://localhost:8080/",
          "height": 348
        },
        "id": "YBnfkwmep9yu",
        "outputId": "8228b3f5-0cb0-412f-c213-096eb0fc4034"
      },
      "source": [
        "print(iris.isna().sum())\n",
        "iris.tail()"
      ],
      "execution_count": 94,
      "outputs": [
        {
          "output_type": "stream",
          "name": "stdout",
          "text": [
            "꽃잎길이     0\n",
            "꽃잎폭      1\n",
            "꽃받침길이    0\n",
            "꽃받침폭     0\n",
            "품종_0     0\n",
            "품종_1     0\n",
            "품종_2     0\n",
            "dtype: int64\n"
          ]
        },
        {
          "output_type": "execute_result",
          "data": {
            "text/html": [
              "<div>\n",
              "<style scoped>\n",
              "    .dataframe tbody tr th:only-of-type {\n",
              "        vertical-align: middle;\n",
              "    }\n",
              "\n",
              "    .dataframe tbody tr th {\n",
              "        vertical-align: top;\n",
              "    }\n",
              "\n",
              "    .dataframe thead th {\n",
              "        text-align: right;\n",
              "    }\n",
              "</style>\n",
              "<table border=\"1\" class=\"dataframe\">\n",
              "  <thead>\n",
              "    <tr style=\"text-align: right;\">\n",
              "      <th></th>\n",
              "      <th>꽃잎길이</th>\n",
              "      <th>꽃잎폭</th>\n",
              "      <th>꽃받침길이</th>\n",
              "      <th>꽃받침폭</th>\n",
              "      <th>품종_0</th>\n",
              "      <th>품종_1</th>\n",
              "      <th>품종_2</th>\n",
              "    </tr>\n",
              "  </thead>\n",
              "  <tbody>\n",
              "    <tr>\n",
              "      <th>145</th>\n",
              "      <td>6.7</td>\n",
              "      <td>3.0</td>\n",
              "      <td>5.2</td>\n",
              "      <td>2.3</td>\n",
              "      <td>0</td>\n",
              "      <td>0</td>\n",
              "      <td>1</td>\n",
              "    </tr>\n",
              "    <tr>\n",
              "      <th>146</th>\n",
              "      <td>6.3</td>\n",
              "      <td>2.5</td>\n",
              "      <td>5.0</td>\n",
              "      <td>1.9</td>\n",
              "      <td>0</td>\n",
              "      <td>0</td>\n",
              "      <td>1</td>\n",
              "    </tr>\n",
              "    <tr>\n",
              "      <th>147</th>\n",
              "      <td>6.5</td>\n",
              "      <td>3.0</td>\n",
              "      <td>5.2</td>\n",
              "      <td>2.0</td>\n",
              "      <td>0</td>\n",
              "      <td>0</td>\n",
              "      <td>1</td>\n",
              "    </tr>\n",
              "    <tr>\n",
              "      <th>148</th>\n",
              "      <td>6.2</td>\n",
              "      <td>3.4</td>\n",
              "      <td>5.4</td>\n",
              "      <td>2.3</td>\n",
              "      <td>0</td>\n",
              "      <td>0</td>\n",
              "      <td>1</td>\n",
              "    </tr>\n",
              "    <tr>\n",
              "      <th>149</th>\n",
              "      <td>5.9</td>\n",
              "      <td>NaN</td>\n",
              "      <td>5.1</td>\n",
              "      <td>1.8</td>\n",
              "      <td>0</td>\n",
              "      <td>0</td>\n",
              "      <td>1</td>\n",
              "    </tr>\n",
              "  </tbody>\n",
              "</table>\n",
              "</div>"
            ],
            "text/plain": [
              "     꽃잎길이  꽃잎폭  꽃받침길이  꽃받침폭  품종_0  품종_1  품종_2\n",
              "145   6.7  3.0    5.2   2.3     0     0     1\n",
              "146   6.3  2.5    5.0   1.9     0     0     1\n",
              "147   6.5  3.0    5.2   2.0     0     0     1\n",
              "148   6.2  3.4    5.4   2.3     0     0     1\n",
              "149   5.9  NaN    5.1   1.8     0     0     1"
            ]
          },
          "metadata": {},
          "execution_count": 94
        }
      ]
    },
    {
      "cell_type": "code",
      "metadata": {
        "colab": {
          "base_uri": "https://localhost:8080/",
          "height": 204
        },
        "id": "XuewvHH4qDK-",
        "outputId": "603f8e37-6b16-4fad-eeef-addbdf844fac"
      },
      "source": [
        "mean = iris[\"꽃잎폭\"].mean()\n",
        "iris[\"꽃잎폭\"] = iris[\"꽃잎폭\"].fillna(mean) # 빈 값을 평균값으로 채움\n",
        "iris.tail()"
      ],
      "execution_count": 95,
      "outputs": [
        {
          "output_type": "execute_result",
          "data": {
            "text/html": [
              "<div>\n",
              "<style scoped>\n",
              "    .dataframe tbody tr th:only-of-type {\n",
              "        vertical-align: middle;\n",
              "    }\n",
              "\n",
              "    .dataframe tbody tr th {\n",
              "        vertical-align: top;\n",
              "    }\n",
              "\n",
              "    .dataframe thead th {\n",
              "        text-align: right;\n",
              "    }\n",
              "</style>\n",
              "<table border=\"1\" class=\"dataframe\">\n",
              "  <thead>\n",
              "    <tr style=\"text-align: right;\">\n",
              "      <th></th>\n",
              "      <th>꽃잎길이</th>\n",
              "      <th>꽃잎폭</th>\n",
              "      <th>꽃받침길이</th>\n",
              "      <th>꽃받침폭</th>\n",
              "      <th>품종_0</th>\n",
              "      <th>품종_1</th>\n",
              "      <th>품종_2</th>\n",
              "    </tr>\n",
              "  </thead>\n",
              "  <tbody>\n",
              "    <tr>\n",
              "      <th>145</th>\n",
              "      <td>6.7</td>\n",
              "      <td>3.000000</td>\n",
              "      <td>5.2</td>\n",
              "      <td>2.3</td>\n",
              "      <td>0</td>\n",
              "      <td>0</td>\n",
              "      <td>1</td>\n",
              "    </tr>\n",
              "    <tr>\n",
              "      <th>146</th>\n",
              "      <td>6.3</td>\n",
              "      <td>2.500000</td>\n",
              "      <td>5.0</td>\n",
              "      <td>1.9</td>\n",
              "      <td>0</td>\n",
              "      <td>0</td>\n",
              "      <td>1</td>\n",
              "    </tr>\n",
              "    <tr>\n",
              "      <th>147</th>\n",
              "      <td>6.5</td>\n",
              "      <td>3.000000</td>\n",
              "      <td>5.2</td>\n",
              "      <td>2.0</td>\n",
              "      <td>0</td>\n",
              "      <td>0</td>\n",
              "      <td>1</td>\n",
              "    </tr>\n",
              "    <tr>\n",
              "      <th>148</th>\n",
              "      <td>6.2</td>\n",
              "      <td>3.400000</td>\n",
              "      <td>5.4</td>\n",
              "      <td>2.3</td>\n",
              "      <td>0</td>\n",
              "      <td>0</td>\n",
              "      <td>1</td>\n",
              "    </tr>\n",
              "    <tr>\n",
              "      <th>149</th>\n",
              "      <td>5.9</td>\n",
              "      <td>3.054362</td>\n",
              "      <td>5.1</td>\n",
              "      <td>1.8</td>\n",
              "      <td>0</td>\n",
              "      <td>0</td>\n",
              "      <td>1</td>\n",
              "    </tr>\n",
              "  </tbody>\n",
              "</table>\n",
              "</div>"
            ],
            "text/plain": [
              "     꽃잎길이       꽃잎폭  꽃받침길이  꽃받침폭  품종_0  품종_1  품종_2\n",
              "145   6.7  3.000000    5.2   2.3     0     0     1\n",
              "146   6.3  2.500000    5.0   1.9     0     0     1\n",
              "147   6.5  3.000000    5.2   2.0     0     0     1\n",
              "148   6.2  3.400000    5.4   2.3     0     0     1\n",
              "149   5.9  3.054362    5.1   1.8     0     0     1"
            ]
          },
          "metadata": {},
          "execution_count": 95
        }
      ]
    },
    {
      "cell_type": "code",
      "metadata": {
        "colab": {
          "base_uri": "https://localhost:8080/"
        },
        "id": "cBcHoDiUrd1E",
        "outputId": "29a0a2f1-a03f-44dd-e517-e68cfaa80cbf"
      },
      "source": [
        "\n",
        "file_path = 'https://raw.githubusercontent.com/blackdew/tensorflow1/master/csv/boston.csv'\n",
        "\n",
        "boston = pd.read_csv(file_path)\n",
        "args = boston[['crim', 'zn', 'indus', 'chas', 'nox', 'rm', 'age', 'dis', 'rad', 'tax',\n",
        "       'ptratio', 'b', 'lstat']]\n",
        "medv = boston[['medv']]\n",
        "\n",
        "x = tf.keras.layers.Input(shape=[13])\n",
        "h = tf.keras.layers.Dense(10)(x)\n",
        "h = tf.keras.layers.BatchNormalization()(h)\n",
        "h = tf.keras.layers.Activation('swish')(h)\n",
        "\n",
        "h = tf.keras.layers.Dense(10)(h)\n",
        "h = tf.keras.layers.BatchNormalization()(h)\n",
        "h = tf.keras.layers.Activation('swish')(h)\n",
        "\n",
        "h = tf.keras.layers.Dense(10)(h)\n",
        "h = tf.keras.layers.BatchNormalization()(h)\n",
        "h = tf.keras.layers.Activation('swish')(h)\n",
        "\n",
        "y = tf.keras.layers.Dense(1)(h)\n",
        "\n",
        "model = tf.keras.models.Model(x, y)\n",
        "model.compile(loss='mse')\n",
        "\n",
        "model.fit(args, medv, epochs=1000, verbose=0)\n",
        "model.fit(args, medv, epochs=10)"
      ],
      "execution_count": 97,
      "outputs": [
        {
          "output_type": "stream",
          "name": "stdout",
          "text": [
            "Epoch 1/10\n",
            "16/16 [==============================] - 0s 2ms/step - loss: 9.0409\n",
            "Epoch 2/10\n",
            "16/16 [==============================] - 0s 2ms/step - loss: 10.3962\n",
            "Epoch 3/10\n",
            "16/16 [==============================] - 0s 3ms/step - loss: 9.3767\n",
            "Epoch 4/10\n",
            "16/16 [==============================] - 0s 2ms/step - loss: 9.3931\n",
            "Epoch 5/10\n",
            "16/16 [==============================] - 0s 2ms/step - loss: 8.9257\n",
            "Epoch 6/10\n",
            "16/16 [==============================] - 0s 2ms/step - loss: 12.4582\n",
            "Epoch 7/10\n",
            "16/16 [==============================] - 0s 3ms/step - loss: 7.0556\n",
            "Epoch 8/10\n",
            "16/16 [==============================] - 0s 4ms/step - loss: 10.3727\n",
            "Epoch 9/10\n",
            "16/16 [==============================] - 0s 2ms/step - loss: 10.0742\n",
            "Epoch 10/10\n",
            "16/16 [==============================] - 0s 2ms/step - loss: 11.1074\n"
          ]
        },
        {
          "output_type": "execute_result",
          "data": {
            "text/plain": [
              "<keras.callbacks.History at 0x7f7453db4550>"
            ]
          },
          "metadata": {},
          "execution_count": 97
        }
      ]
    },
    {
      "cell_type": "code",
      "metadata": {
        "colab": {
          "base_uri": "https://localhost:8080/"
        },
        "id": "ilDNqRmVsWbT",
        "outputId": "adb8ab88-dab5-4521-c1c4-9b8e85092fa3"
      },
      "source": [
        "print(model.predict(args[10:20]))\n",
        "print(medv[10:20])"
      ],
      "execution_count": 98,
      "outputs": [
        {
          "output_type": "stream",
          "name": "stdout",
          "text": [
            "[[20.396338]\n",
            " [20.198847]\n",
            " [21.990576]\n",
            " [18.391132]\n",
            " [16.851564]\n",
            " [18.472002]\n",
            " [21.476955]\n",
            " [17.11335 ]\n",
            " [19.264212]\n",
            " [17.42292 ]]\n",
            "    medv\n",
            "10  15.0\n",
            "11  18.9\n",
            "12  21.7\n",
            "13  20.4\n",
            "14  18.2\n",
            "15  19.9\n",
            "16  23.1\n",
            "17  17.5\n",
            "18  20.2\n",
            "19  18.2\n"
          ]
        }
      ]
    },
    {
      "cell_type": "code",
      "metadata": {
        "id": "GbG814yws4pv"
      },
      "source": [
        "file_path = 'https://raw.githubusercontent.com/blackdew/tensorflow1/master/csv/iris.csv'\n",
        "\n",
        "iris = pd.read_csv(file_path)\n",
        "iris = pd.get_dummies(iris)\n",
        "\n",
        "args = iris[['꽃잎길이', '꽃잎폭', '꽃받침길이', '꽃받침폭']]\n",
        "dependent = iris[['품종_setosa', '품종_versicolor', '품종_virginica']]\n",
        "x = tf.keras.layers.Input(shape=[4])\n",
        "h = tf.keras.layers.Dense(8)(x)\n",
        "h = tf.keras.layers.BatchNormalization()(h)\n",
        "h = tf.keras.layers.Activation('swish')(h)\n",
        "\n",
        "h = tf.keras.layers.Dense(8)(h)\n",
        "h = tf.keras.layers.BatchNormalization()(h)\n",
        "h = tf.keras.layers.Activation('swish')(h)\n",
        "\n",
        "h = tf.keras.layers.Dense(8)(h)\n",
        "h = tf.keras.layers.BatchNormalization()(h)\n",
        "h = tf.keras.layers.Activation('swish')(h)\n",
        "\n",
        "y = tf.keras.layers.Dense(3, activation='softmax')(h)\n",
        "\n",
        "model = tf.keras.models.Model(x, y)\n",
        "model.compile(loss='categorical_crossentropy', metrics='accuracy')\n",
        "\n"
      ],
      "execution_count": 100,
      "outputs": []
    },
    {
      "cell_type": "code",
      "metadata": {
        "colab": {
          "base_uri": "https://localhost:8080/"
        },
        "id": "tvh_-zihtV0H",
        "outputId": "4a1d9056-6231-4db9-a3f3-7ba00b6348f2"
      },
      "source": [
        "model.fit(args, dependent, epochs=999, verbose=0)\n",
        "model.fit(args, dependent, epochs=1)"
      ],
      "execution_count": 106,
      "outputs": [
        {
          "output_type": "stream",
          "name": "stdout",
          "text": [
            "5/5 [==============================] - 0s 3ms/step - loss: 0.1314 - accuracy: 0.9600\n"
          ]
        },
        {
          "output_type": "execute_result",
          "data": {
            "text/plain": [
              "<keras.callbacks.History at 0x7f74545a9850>"
            ]
          },
          "metadata": {},
          "execution_count": 106
        }
      ]
    },
    {
      "cell_type": "code",
      "metadata": {
        "colab": {
          "base_uri": "https://localhost:8080/"
        },
        "id": "V34QXLmGtmVz",
        "outputId": "1e675ed9-cb07-46f4-83f6-aed325c11e3c"
      },
      "source": [
        "print(model.predict(args[:10]))\n",
        "print(dependent[:10])"
      ],
      "execution_count": 107,
      "outputs": [
        {
          "output_type": "stream",
          "name": "stdout",
          "text": [
            "[[1.00000000e+00 1.30162174e-11 1.21433211e-16]\n",
            " [1.00000000e+00 6.16161622e-10 8.68643604e-14]\n",
            " [1.00000000e+00 1.30900429e-10 1.53660561e-17]\n",
            " [1.00000000e+00 2.23598420e-08 1.16183655e-14]\n",
            " [1.00000000e+00 9.28883099e-12 1.55869216e-16]\n",
            " [1.00000000e+00 1.07505083e-09 8.89405669e-14]\n",
            " [1.00000000e+00 4.27648845e-12 2.53507908e-16]\n",
            " [1.00000000e+00 6.23647134e-10 3.36326925e-15]\n",
            " [9.99999881e-01 1.04147709e-07 1.97678665e-15]\n",
            " [1.00000000e+00 9.13338294e-09 9.51191234e-14]]\n",
            "   품종_setosa  품종_versicolor  품종_virginica\n",
            "0          1              0             0\n",
            "1          1              0             0\n",
            "2          1              0             0\n",
            "3          1              0             0\n",
            "4          1              0             0\n",
            "5          1              0             0\n",
            "6          1              0             0\n",
            "7          1              0             0\n",
            "8          1              0             0\n",
            "9          1              0             0\n"
          ]
        }
      ]
    },
    {
      "cell_type": "code",
      "metadata": {
        "id": "80tRoWiNv77A"
      },
      "source": [
        ""
      ],
      "execution_count": null,
      "outputs": []
    }
  ]
}