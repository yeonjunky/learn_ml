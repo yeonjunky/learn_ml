{
  "cells": [
    {
      "cell_type": "markdown",
      "metadata": {
        "id": "view-in-github",
        "colab_type": "text"
      },
      "source": [
        "<a href=\"https://colab.research.google.com/github/yeonjunky/learn_ml/blob/main/6_PCA_sklearn.ipynb\" target=\"_parent\"><img src=\"https://colab.research.google.com/assets/colab-badge.svg\" alt=\"Open In Colab\"/></a>"
      ]
    },
    {
      "cell_type": "code",
      "execution_count": null,
      "metadata": {
        "id": "gInFRaCWyYVc"
      },
      "outputs": [],
      "source": [
        "import numpy as np\n",
        "import matplotlib.pyplot as plt\n",
        "from mpl_toolkits.mplot3d import Axes3D\n",
        "\n",
        "from sklearn import decomposition\n",
        "from sklearn import datasets\n",
        "\n",
        "import warnings\n",
        "warnings.filterwarnings(\"ignore\") # 불필요한 Warning 메시지를 꺼줍니다."
      ]
    },
    {
      "cell_type": "markdown",
      "metadata": {
        "id": "As2oHykhyYVm"
      },
      "source": [
        "<br>\n",
        "<br>\n",
        "\n",
        "#### 1. (붓꽃 데이터) 데이터 읽어들이기 "
      ]
    },
    {
      "cell_type": "code",
      "execution_count": null,
      "metadata": {
        "id": "xp2HakVfyYVp"
      },
      "outputs": [],
      "source": [
        "iris = datasets.load_iris()\n",
        "x = iris.data\n",
        "y = iris.target"
      ]
    },
    {
      "cell_type": "code",
      "execution_count": null,
      "metadata": {
        "colab": {
          "base_uri": "https://localhost:8080/"
        },
        "id": "MUmqGlp4yYVr",
        "outputId": "8ab80258-2c4c-4ad5-8aee-fda8528bccc7"
      },
      "outputs": [
        {
          "output_type": "execute_result",
          "data": {
            "text/plain": [
              "array([[5.1, 3.5, 1.4, 0.2],\n",
              "       [4.9, 3. , 1.4, 0.2],\n",
              "       [4.7, 3.2, 1.3, 0.2],\n",
              "       [4.6, 3.1, 1.5, 0.2],\n",
              "       [5. , 3.6, 1.4, 0.2],\n",
              "       [5.4, 3.9, 1.7, 0.4],\n",
              "       [4.6, 3.4, 1.4, 0.3],\n",
              "       [5. , 3.4, 1.5, 0.2],\n",
              "       [4.4, 2.9, 1.4, 0.2],\n",
              "       [4.9, 3.1, 1.5, 0.1],\n",
              "       [5.4, 3.7, 1.5, 0.2],\n",
              "       [4.8, 3.4, 1.6, 0.2],\n",
              "       [4.8, 3. , 1.4, 0.1],\n",
              "       [4.3, 3. , 1.1, 0.1],\n",
              "       [5.8, 4. , 1.2, 0.2],\n",
              "       [5.7, 4.4, 1.5, 0.4],\n",
              "       [5.4, 3.9, 1.3, 0.4],\n",
              "       [5.1, 3.5, 1.4, 0.3],\n",
              "       [5.7, 3.8, 1.7, 0.3],\n",
              "       [5.1, 3.8, 1.5, 0.3],\n",
              "       [5.4, 3.4, 1.7, 0.2],\n",
              "       [5.1, 3.7, 1.5, 0.4],\n",
              "       [4.6, 3.6, 1. , 0.2],\n",
              "       [5.1, 3.3, 1.7, 0.5],\n",
              "       [4.8, 3.4, 1.9, 0.2],\n",
              "       [5. , 3. , 1.6, 0.2],\n",
              "       [5. , 3.4, 1.6, 0.4],\n",
              "       [5.2, 3.5, 1.5, 0.2],\n",
              "       [5.2, 3.4, 1.4, 0.2],\n",
              "       [4.7, 3.2, 1.6, 0.2],\n",
              "       [4.8, 3.1, 1.6, 0.2],\n",
              "       [5.4, 3.4, 1.5, 0.4],\n",
              "       [5.2, 4.1, 1.5, 0.1],\n",
              "       [5.5, 4.2, 1.4, 0.2],\n",
              "       [4.9, 3.1, 1.5, 0.2],\n",
              "       [5. , 3.2, 1.2, 0.2],\n",
              "       [5.5, 3.5, 1.3, 0.2],\n",
              "       [4.9, 3.6, 1.4, 0.1],\n",
              "       [4.4, 3. , 1.3, 0.2],\n",
              "       [5.1, 3.4, 1.5, 0.2],\n",
              "       [5. , 3.5, 1.3, 0.3],\n",
              "       [4.5, 2.3, 1.3, 0.3],\n",
              "       [4.4, 3.2, 1.3, 0.2],\n",
              "       [5. , 3.5, 1.6, 0.6],\n",
              "       [5.1, 3.8, 1.9, 0.4],\n",
              "       [4.8, 3. , 1.4, 0.3],\n",
              "       [5.1, 3.8, 1.6, 0.2],\n",
              "       [4.6, 3.2, 1.4, 0.2],\n",
              "       [5.3, 3.7, 1.5, 0.2],\n",
              "       [5. , 3.3, 1.4, 0.2],\n",
              "       [7. , 3.2, 4.7, 1.4],\n",
              "       [6.4, 3.2, 4.5, 1.5],\n",
              "       [6.9, 3.1, 4.9, 1.5],\n",
              "       [5.5, 2.3, 4. , 1.3],\n",
              "       [6.5, 2.8, 4.6, 1.5],\n",
              "       [5.7, 2.8, 4.5, 1.3],\n",
              "       [6.3, 3.3, 4.7, 1.6],\n",
              "       [4.9, 2.4, 3.3, 1. ],\n",
              "       [6.6, 2.9, 4.6, 1.3],\n",
              "       [5.2, 2.7, 3.9, 1.4],\n",
              "       [5. , 2. , 3.5, 1. ],\n",
              "       [5.9, 3. , 4.2, 1.5],\n",
              "       [6. , 2.2, 4. , 1. ],\n",
              "       [6.1, 2.9, 4.7, 1.4],\n",
              "       [5.6, 2.9, 3.6, 1.3],\n",
              "       [6.7, 3.1, 4.4, 1.4],\n",
              "       [5.6, 3. , 4.5, 1.5],\n",
              "       [5.8, 2.7, 4.1, 1. ],\n",
              "       [6.2, 2.2, 4.5, 1.5],\n",
              "       [5.6, 2.5, 3.9, 1.1],\n",
              "       [5.9, 3.2, 4.8, 1.8],\n",
              "       [6.1, 2.8, 4. , 1.3],\n",
              "       [6.3, 2.5, 4.9, 1.5],\n",
              "       [6.1, 2.8, 4.7, 1.2],\n",
              "       [6.4, 2.9, 4.3, 1.3],\n",
              "       [6.6, 3. , 4.4, 1.4],\n",
              "       [6.8, 2.8, 4.8, 1.4],\n",
              "       [6.7, 3. , 5. , 1.7],\n",
              "       [6. , 2.9, 4.5, 1.5],\n",
              "       [5.7, 2.6, 3.5, 1. ],\n",
              "       [5.5, 2.4, 3.8, 1.1],\n",
              "       [5.5, 2.4, 3.7, 1. ],\n",
              "       [5.8, 2.7, 3.9, 1.2],\n",
              "       [6. , 2.7, 5.1, 1.6],\n",
              "       [5.4, 3. , 4.5, 1.5],\n",
              "       [6. , 3.4, 4.5, 1.6],\n",
              "       [6.7, 3.1, 4.7, 1.5],\n",
              "       [6.3, 2.3, 4.4, 1.3],\n",
              "       [5.6, 3. , 4.1, 1.3],\n",
              "       [5.5, 2.5, 4. , 1.3],\n",
              "       [5.5, 2.6, 4.4, 1.2],\n",
              "       [6.1, 3. , 4.6, 1.4],\n",
              "       [5.8, 2.6, 4. , 1.2],\n",
              "       [5. , 2.3, 3.3, 1. ],\n",
              "       [5.6, 2.7, 4.2, 1.3],\n",
              "       [5.7, 3. , 4.2, 1.2],\n",
              "       [5.7, 2.9, 4.2, 1.3],\n",
              "       [6.2, 2.9, 4.3, 1.3],\n",
              "       [5.1, 2.5, 3. , 1.1],\n",
              "       [5.7, 2.8, 4.1, 1.3],\n",
              "       [6.3, 3.3, 6. , 2.5],\n",
              "       [5.8, 2.7, 5.1, 1.9],\n",
              "       [7.1, 3. , 5.9, 2.1],\n",
              "       [6.3, 2.9, 5.6, 1.8],\n",
              "       [6.5, 3. , 5.8, 2.2],\n",
              "       [7.6, 3. , 6.6, 2.1],\n",
              "       [4.9, 2.5, 4.5, 1.7],\n",
              "       [7.3, 2.9, 6.3, 1.8],\n",
              "       [6.7, 2.5, 5.8, 1.8],\n",
              "       [7.2, 3.6, 6.1, 2.5],\n",
              "       [6.5, 3.2, 5.1, 2. ],\n",
              "       [6.4, 2.7, 5.3, 1.9],\n",
              "       [6.8, 3. , 5.5, 2.1],\n",
              "       [5.7, 2.5, 5. , 2. ],\n",
              "       [5.8, 2.8, 5.1, 2.4],\n",
              "       [6.4, 3.2, 5.3, 2.3],\n",
              "       [6.5, 3. , 5.5, 1.8],\n",
              "       [7.7, 3.8, 6.7, 2.2],\n",
              "       [7.7, 2.6, 6.9, 2.3],\n",
              "       [6. , 2.2, 5. , 1.5],\n",
              "       [6.9, 3.2, 5.7, 2.3],\n",
              "       [5.6, 2.8, 4.9, 2. ],\n",
              "       [7.7, 2.8, 6.7, 2. ],\n",
              "       [6.3, 2.7, 4.9, 1.8],\n",
              "       [6.7, 3.3, 5.7, 2.1],\n",
              "       [7.2, 3.2, 6. , 1.8],\n",
              "       [6.2, 2.8, 4.8, 1.8],\n",
              "       [6.1, 3. , 4.9, 1.8],\n",
              "       [6.4, 2.8, 5.6, 2.1],\n",
              "       [7.2, 3. , 5.8, 1.6],\n",
              "       [7.4, 2.8, 6.1, 1.9],\n",
              "       [7.9, 3.8, 6.4, 2. ],\n",
              "       [6.4, 2.8, 5.6, 2.2],\n",
              "       [6.3, 2.8, 5.1, 1.5],\n",
              "       [6.1, 2.6, 5.6, 1.4],\n",
              "       [7.7, 3. , 6.1, 2.3],\n",
              "       [6.3, 3.4, 5.6, 2.4],\n",
              "       [6.4, 3.1, 5.5, 1.8],\n",
              "       [6. , 3. , 4.8, 1.8],\n",
              "       [6.9, 3.1, 5.4, 2.1],\n",
              "       [6.7, 3.1, 5.6, 2.4],\n",
              "       [6.9, 3.1, 5.1, 2.3],\n",
              "       [5.8, 2.7, 5.1, 1.9],\n",
              "       [6.8, 3.2, 5.9, 2.3],\n",
              "       [6.7, 3.3, 5.7, 2.5],\n",
              "       [6.7, 3. , 5.2, 2.3],\n",
              "       [6.3, 2.5, 5. , 1.9],\n",
              "       [6.5, 3. , 5.2, 2. ],\n",
              "       [6.2, 3.4, 5.4, 2.3],\n",
              "       [5.9, 3. , 5.1, 1.8]])"
            ]
          },
          "metadata": {},
          "execution_count": 3
        }
      ],
      "source": [
        "x"
      ]
    },
    {
      "cell_type": "markdown",
      "metadata": {
        "id": "FCfyTQ3ZyYVs"
      },
      "source": [
        "<br>\n",
        "<br>\n",
        "\n",
        "#### 2. 비어있는 모델 객체 만들기"
      ]
    },
    {
      "cell_type": "code",
      "execution_count": null,
      "metadata": {
        "id": "7BOwrG4lyYVt"
      },
      "outputs": [],
      "source": [
        "model = decomposition.PCA(n_components=1) "
      ]
    },
    {
      "cell_type": "markdown",
      "metadata": {
        "id": "RBX5V1fnyYVw"
      },
      "source": [
        "<br>\n",
        "<br>\n",
        "\n",
        "#### 3. 모델 객체 학습시키기"
      ]
    },
    {
      "cell_type": "code",
      "execution_count": null,
      "metadata": {
        "id": "Pgm0oMEQyYV1"
      },
      "outputs": [],
      "source": [
        "model.fit(x)\n",
        "x1 = model.transform(x) # 모델에 맞춰서 원래 데이터를 차원이동 시켜줍니다."
      ]
    },
    {
      "cell_type": "code",
      "execution_count": null,
      "metadata": {
        "colab": {
          "base_uri": "https://localhost:8080/"
        },
        "id": "T52cCA0AyYV3",
        "outputId": "a651118a-368a-4a5b-ab0b-85045a962b07"
      },
      "outputs": [
        {
          "output_type": "execute_result",
          "data": {
            "text/plain": [
              "array([[-2.68412563],\n",
              "       [-2.71414169],\n",
              "       [-2.88899057],\n",
              "       [-2.74534286],\n",
              "       [-2.72871654],\n",
              "       [-2.28085963],\n",
              "       [-2.82053775],\n",
              "       [-2.62614497],\n",
              "       [-2.88638273],\n",
              "       [-2.6727558 ]])"
            ]
          },
          "metadata": {},
          "execution_count": 6
        }
      ],
      "source": [
        "x1[:10]"
      ]
    },
    {
      "cell_type": "markdown",
      "metadata": {
        "id": "IFYMcN7GyYV5"
      },
      "source": [
        "<br>\n",
        "<br>\n",
        "\n",
        "#### 4. 모델 시각화 "
      ]
    },
    {
      "cell_type": "code",
      "execution_count": null,
      "metadata": {
        "colab": {
          "base_uri": "https://localhost:8080/",
          "height": 430
        },
        "id": "b1ICb8JuyYV6",
        "outputId": "fba0ecb8-d11a-4320-d686-994a9593ccb9"
      },
      "outputs": [
        {
          "output_type": "display_data",
          "data": {
            "text/plain": [
              "<Figure size 640x480 with 1 Axes>"
            ],
            "image/png": "[encoded data removed]"
          },
          "metadata": {}
        }
      ],
      "source": [
        "# pip install seaborn\n",
        "import seaborn as sns\n",
        "\n",
        "# bins : Specification of hist bins, or None to use Freedman-Diaconis rule.\n",
        "# kde : Whether to plot a gaussian kernel density estimate\n",
        "sns.distplot(x1[y==0], color=\"b\", bins=20, kde=False)\n",
        "sns.distplot(x1[y==1], color=\"g\", bins=20, kde=False)\n",
        "sns.distplot(x1[y==2], color=\"r\", bins=20, kde=False)\n",
        "\n",
        "plt.xlim(-6, 6)\n",
        "\n",
        "plt.show()"
      ]
    },
    {
      "cell_type": "markdown",
      "metadata": {
        "id": "idWClE7QyYV7"
      },
      "source": [
        "<br>\n",
        "<br>\n",
        "\n",
        "#### 2. 비어있는 모델 객체 만들기 + 3. 모델 객체 학습시키기"
      ]
    },
    {
      "cell_type": "code",
      "execution_count": null,
      "metadata": {
        "scrolled": false,
        "colab": {
          "base_uri": "https://localhost:8080/"
        },
        "id": "L4RoqoFeyYV7",
        "outputId": "86862b1c-4560-4c2c-91f1-22fd0cefa4f8"
      },
      "outputs": [
        {
          "output_type": "execute_result",
          "data": {
            "text/plain": [
              "array([[-2.68412563,  0.31939725, -0.02791483],\n",
              "       [-2.71414169, -0.17700123, -0.21046427],\n",
              "       [-2.88899057, -0.14494943,  0.01790026],\n",
              "       [-2.74534286, -0.31829898,  0.03155937],\n",
              "       [-2.72871654,  0.32675451,  0.09007924],\n",
              "       [-2.28085963,  0.74133045,  0.16867766],\n",
              "       [-2.82053775, -0.08946138,  0.25789216],\n",
              "       [-2.62614497,  0.16338496, -0.02187932],\n",
              "       [-2.88638273, -0.57831175,  0.02075957],\n",
              "       [-2.6727558 , -0.11377425, -0.19763272],\n",
              "       [-2.50694709,  0.6450689 , -0.07531801],\n",
              "       [-2.61275523,  0.01472994,  0.10215026],\n",
              "       [-2.78610927, -0.235112  , -0.20684443],\n",
              "       [-3.22380374, -0.51139459,  0.06129967],\n",
              "       [-2.64475039,  1.17876464, -0.15162752],\n",
              "       [-2.38603903,  1.33806233,  0.2777769 ],\n",
              "       [-2.62352788,  0.81067951,  0.13818323],\n",
              "       [-2.64829671,  0.31184914,  0.02666832],\n",
              "       [-2.19982032,  0.87283904, -0.12030552],\n",
              "       [-2.5879864 ,  0.51356031,  0.21366517],\n",
              "       [-2.31025622,  0.39134594, -0.23944404],\n",
              "       [-2.54370523,  0.43299606,  0.20845723],\n",
              "       [-3.21593942,  0.13346807,  0.29239675],\n",
              "       [-2.30273318,  0.09870885,  0.03912326],\n",
              "       [-2.35575405, -0.03728186,  0.12502108],\n",
              "       [-2.50666891, -0.14601688, -0.25342004],\n",
              "       [-2.46882007,  0.13095149,  0.09491058],\n",
              "       [-2.56231991,  0.36771886, -0.07849421],\n",
              "       [-2.63953472,  0.31203998, -0.1459089 ],\n",
              "       [-2.63198939, -0.19696122,  0.04077108],\n",
              "       [-2.58739848, -0.20431849, -0.07722299],\n",
              "       [-2.4099325 ,  0.41092426, -0.14552497],\n",
              "       [-2.64886233,  0.81336382,  0.22566915],\n",
              "       [-2.59873675,  1.09314576,  0.15781081],\n",
              "       [-2.63692688, -0.12132235, -0.14304958],\n",
              "       [-2.86624165,  0.06936447, -0.16433231],\n",
              "       [-2.62523805,  0.59937002, -0.26835038],\n",
              "       [-2.80068412,  0.26864374,  0.09369908],\n",
              "       [-2.98050204, -0.48795834,  0.07292705],\n",
              "       [-2.59000631,  0.22904384, -0.0800823 ],\n",
              "       [-2.77010243,  0.26352753,  0.07724769],\n",
              "       [-2.84936871, -0.94096057, -0.34923038],\n",
              "       [-2.99740655, -0.34192606,  0.19250921],\n",
              "       [-2.40561449,  0.18887143,  0.26386795],\n",
              "       [-2.20948924,  0.43666314,  0.29874275],\n",
              "       [-2.71445143, -0.2502082 , -0.09767814],\n",
              "       [-2.53814826,  0.50377114,  0.16670564],\n",
              "       [-2.83946217, -0.22794557,  0.08372685],\n",
              "       [-2.54308575,  0.57941002, -0.01711502],\n",
              "       [-2.70335978,  0.10770608, -0.08929401],\n",
              "       [ 1.28482569,  0.68516047, -0.40656803],\n",
              "       [ 0.93248853,  0.31833364, -0.01801419],\n",
              "       [ 1.46430232,  0.50426282, -0.33832576],\n",
              "       [ 0.18331772, -0.82795901, -0.17959139],\n",
              "       [ 1.08810326,  0.07459068, -0.3077579 ],\n",
              "       [ 0.64166908, -0.41824687,  0.04107609],\n",
              "       [ 1.09506066,  0.28346827,  0.16981024],\n",
              "       [-0.74912267, -1.00489096,  0.01230292],\n",
              "       [ 1.04413183,  0.2283619 , -0.41533608],\n",
              "       [-0.0087454 , -0.72308191,  0.28114143],\n",
              "       [-0.50784088, -1.26597119, -0.26981718],\n",
              "       [ 0.51169856, -0.10398124,  0.13054775],\n",
              "       [ 0.26497651, -0.55003646, -0.69414683],\n",
              "       [ 0.98493451, -0.12481785, -0.06211441],\n",
              "       [-0.17392537, -0.25485421,  0.09045769],\n",
              "       [ 0.92786078,  0.46717949, -0.31462098],\n",
              "       [ 0.66028376, -0.35296967,  0.32802753],\n",
              "       [ 0.23610499, -0.33361077, -0.27116184],\n",
              "       [ 0.94473373, -0.54314555, -0.49951905],\n",
              "       [ 0.04522698, -0.58383438, -0.2350021 ],\n",
              "       [ 1.11628318, -0.08461685,  0.45962099],\n",
              "       [ 0.35788842, -0.06892503, -0.22985389],\n",
              "       [ 1.29818388, -0.32778731, -0.34785435],\n",
              "       [ 0.92172892, -0.18273779, -0.23107178],\n",
              "       [ 0.71485333,  0.14905594, -0.32180094],\n",
              "       [ 0.90017437,  0.32850447, -0.31620907],\n",
              "       [ 1.33202444,  0.24444088, -0.52170278],\n",
              "       [ 1.55780216,  0.26749545, -0.16492098],\n",
              "       [ 0.81329065, -0.1633503 ,  0.0354245 ],\n",
              "       [-0.30558378, -0.36826219, -0.31849158],\n",
              "       [-0.06812649, -0.70517213, -0.24421381],\n",
              "       [-0.18962247, -0.68028676, -0.30642056],\n",
              "       [ 0.13642871, -0.31403244, -0.17724277],\n",
              "       [ 1.38002644, -0.42095429,  0.01616713],\n",
              "       [ 0.58800644, -0.48428742,  0.4444335 ],\n",
              "       [ 0.80685831,  0.19418231,  0.38896306],\n",
              "       [ 1.22069088,  0.40761959, -0.23716701],\n",
              "       [ 0.81509524, -0.37203706, -0.61472084],\n",
              "       [ 0.24595768, -0.2685244 ,  0.18836681],\n",
              "       [ 0.16641322, -0.68192672, -0.06000923],\n",
              "       [ 0.46480029, -0.67071154, -0.02430686],\n",
              "       [ 0.8908152 , -0.03446444, -0.00994693],\n",
              "       [ 0.23054802, -0.40438585, -0.22941024],\n",
              "       [-0.70453176, -1.01224823, -0.10569115],\n",
              "       [ 0.35698149, -0.50491009,  0.01661717],\n",
              "       [ 0.33193448, -0.21265468,  0.08320429],\n",
              "       [ 0.37621565, -0.29321893,  0.07799635],\n",
              "       [ 0.64257601,  0.01773819, -0.20539497],\n",
              "       [-0.90646986, -0.75609337, -0.01259965],\n",
              "       [ 0.29900084, -0.34889781,  0.01058166],\n",
              "       [ 2.53119273, -0.00984911,  0.76016543],\n",
              "       [ 1.41523588, -0.57491635,  0.29632253],\n",
              "       [ 2.61667602,  0.34390315, -0.11078788],\n",
              "       [ 1.97153105, -0.1797279 ,  0.10842466],\n",
              "       [ 2.35000592, -0.04026095,  0.28538956],\n",
              "       [ 3.39703874,  0.55083667, -0.34843756],\n",
              "       [ 0.52123224, -1.19275873,  0.5456593 ],\n",
              "       [ 2.93258707,  0.3555    , -0.42023994],\n",
              "       [ 2.32122882, -0.2438315 , -0.34830439],\n",
              "       [ 2.91675097,  0.78279195,  0.42333542],\n",
              "       [ 1.66177415,  0.24222841,  0.24244019],\n",
              "       [ 1.80340195, -0.21563762, -0.03764817],\n",
              "       [ 2.1655918 ,  0.21627559,  0.03332664],\n",
              "       [ 1.34616358, -0.77681835,  0.28190288],\n",
              "       [ 1.58592822, -0.53964071,  0.62902933],\n",
              "       [ 1.90445637,  0.11925069,  0.47963982],\n",
              "       [ 1.94968906,  0.04194326,  0.04418617],\n",
              "       [ 3.48705536,  1.17573933,  0.13389487],\n",
              "       [ 3.79564542,  0.25732297, -0.51376776],\n",
              "       [ 1.30079171, -0.76114964, -0.34499504],\n",
              "       [ 2.42781791,  0.37819601,  0.21911932],\n",
              "       [ 1.19900111, -0.60609153,  0.51185551],\n",
              "       [ 3.49992004,  0.4606741 , -0.57318224],\n",
              "       [ 1.38876613, -0.20439933, -0.06452276],\n",
              "       [ 2.2754305 ,  0.33499061,  0.28615009],\n",
              "       [ 2.61409047,  0.56090136, -0.20553452],\n",
              "       [ 1.25850816, -0.17970479,  0.0458477 ],\n",
              "       [ 1.29113206, -0.11666865,  0.23125646],\n",
              "       [ 2.12360872, -0.20972948,  0.15418002],\n",
              "       [ 2.38800302,  0.4646398 , -0.44953019],\n",
              "       [ 2.84167278,  0.37526917, -0.49889808],\n",
              "       [ 3.23067366,  1.37416509, -0.11454821],\n",
              "       [ 2.15943764, -0.21727758,  0.20876317],\n",
              "       [ 1.44416124, -0.14341341, -0.15323389],\n",
              "       [ 1.78129481, -0.49990168, -0.17287519],\n",
              "       [ 3.07649993,  0.68808568, -0.33559229],\n",
              "       [ 2.14424331,  0.1400642 ,  0.73487894],\n",
              "       [ 1.90509815,  0.04930053,  0.16218024],\n",
              "       [ 1.16932634, -0.16499026,  0.28183584],\n",
              "       [ 2.10761114,  0.37228787,  0.02729113],\n",
              "       [ 2.31415471,  0.18365128,  0.32269375],\n",
              "       [ 1.9222678 ,  0.40920347,  0.1135866 ],\n",
              "       [ 1.41523588, -0.57491635,  0.29632253],\n",
              "       [ 2.56301338,  0.2778626 ,  0.29256952],\n",
              "       [ 2.41874618,  0.3047982 ,  0.50448266],\n",
              "       [ 1.94410979,  0.1875323 ,  0.17782509],\n",
              "       [ 1.52716661, -0.37531698, -0.12189817],\n",
              "       [ 1.76434572,  0.07885885,  0.13048163],\n",
              "       [ 1.90094161,  0.11662796,  0.72325156],\n",
              "       [ 1.39018886, -0.28266094,  0.36290965]])"
            ]
          },
          "metadata": {},
          "execution_count": 8
        }
      ],
      "source": [
        "model = decomposition.PCA(n_components=3)\n",
        "model.fit(x)\n",
        "x = model.transform(x) # 변환하다\n",
        "\n",
        "x"
      ]
    },
    {
      "cell_type": "markdown",
      "metadata": {
        "id": "gn-U3RRryYV8"
      },
      "source": [
        "<br>\n",
        "<br>\n",
        "\n",
        "#### 4. 모델 시각화 "
      ]
    },
    {
      "cell_type": "code",
      "execution_count": null,
      "metadata": {
        "colab": {
          "base_uri": "https://localhost:8080/",
          "height": 454
        },
        "id": "h95g1JN8yYV8",
        "outputId": "3b2d48dc-c025-4f5f-add3-fe99de406ca1"
      },
      "outputs": [
        {
          "output_type": "display_data",
          "data": {
            "text/plain": [
              "<Figure size 640x480 with 1 Axes>"
            ],
            "image/png": "[encoded data removed]"
          },
          "metadata": {}
        }
      ],
      "source": [
        "# PCA plot of 2 PCs\n",
        "\n",
        "plt.scatter(x[:, 0], x[:, 1], c=iris.target)\n",
        "plt.xlabel('PC1')\n",
        "plt.ylabel('PC2')\n",
        "plt.show()"
      ]
    },
    {
      "cell_type": "code",
      "execution_count": null,
      "metadata": {
        "colab": {
          "base_uri": "https://localhost:8080/",
          "height": 406
        },
        "id": "zXZrTwk3yYV9",
        "outputId": "f7a0c27b-d8cf-477d-b2b8-886b46ffb84f"
      },
      "outputs": [
        {
          "output_type": "display_data",
          "data": {
            "text/plain": [
              "<Figure size 640x480 with 1 Axes>"
            ],
            "image/png": "[encoded data removed]"
          },
          "metadata": {}
        }
      ],
      "source": [
        "# PCA plot of 3 PCs\n",
        "\n",
        "fig = plt.figure()\n",
        "ax = fig.add_subplot(111, projection='3d') # Set the elevation and azimuth of the axes. (축의 고도와 방위각)\n",
        "\n",
        "ax.scatter(x[:, 0], x[:, 1], x[:, 2], c=iris.target, edgecolor='w', s=100)\n",
        "ax.w_xaxis.set_ticklabels([])\n",
        "ax.w_yaxis.set_ticklabels([])\n",
        "ax.w_zaxis.set_ticklabels([])\n",
        "ax.set_xlabel('PC1')\n",
        "ax.set_ylabel('PC2')\n",
        "ax.set_zlabel('PC3')\n",
        "ax.dist = 12 # 값이 커지면 전체 plot 이 작아짐\n",
        "\n",
        "plt.show()"
      ]
    },
    {
      "cell_type": "markdown",
      "metadata": {
        "collapsed": true,
        "id": "2yL-2axryYV-"
      },
      "source": [
        "#### (Extra) 5. 몇 개의 PC 면 충분할까?"
      ]
    },
    {
      "cell_type": "code",
      "execution_count": null,
      "metadata": {
        "colab": {
          "base_uri": "https://localhost:8080/"
        },
        "id": "I_GjqAO-yYV-",
        "outputId": "1cce3f38-399e-44f8-e326-7b47d6d1bf96"
      },
      "outputs": [
        {
          "output_type": "execute_result",
          "data": {
            "text/plain": [
              "array([0.92461872, 0.05306648, 0.01710261])"
            ]
          },
          "metadata": {},
          "execution_count": 17
        }
      ],
      "source": [
        "# 각각의 새로운 축이 데이터셋의 분산(variance)을 얼마나 표현하는지 확인이 가능\n",
        "# [PC1, PC2, PC3, ...]\n",
        "\n",
        "# Hint: Explain variance\n",
        "model.explained_variance_ratio_"
      ]
    },
    {
      "cell_type": "code",
      "execution_count": null,
      "metadata": {
        "colab": {
          "base_uri": "https://localhost:8080/"
        },
        "id": "UDS_4ZYAyYV-",
        "outputId": "bd27df77-e361-496e-cf3d-56c46f4c91c3"
      },
      "outputs": [
        {
          "output_type": "execute_result",
          "data": {
            "text/plain": [
              "2"
            ]
          },
          "metadata": {},
          "execution_count": 18
        }
      ],
      "source": [
        "# 몇 개의 PC면 충분할까?\n",
        "# np.argmax : 최대값의 인덱스를 리턴\n",
        "# np.cumsum : 누적된 합계를 계산 cumulative sum\n",
        "\n",
        "np.argmax(np.cumsum(model.explained_variance_ratio_) >= 0.95 ) + 1\n",
        "# 95% 이상의 variance 를 설명하기 위한 축의 갯수를 확인할 수 있음"
      ]
    },
    {
      "cell_type": "code",
      "execution_count": null,
      "metadata": {
        "collapsed": true,
        "id": "eX9HkNMkyYV_"
      },
      "outputs": [],
      "source": [
        "# ex) Boston house dataset의 경우,\n",
        "\n",
        "boston = datasets.load_boston()\n",
        "x = boston.data\n",
        "y = boston.target"
      ]
    },
    {
      "cell_type": "code",
      "execution_count": null,
      "metadata": {
        "collapsed": true,
        "id": "J3ouAZnhyYV_"
      },
      "outputs": [],
      "source": [
        "model = decomposition.PCA(n_components=10)\n",
        "model.fit(x)\n",
        "x = model.transform(x)"
      ]
    },
    {
      "cell_type": "code",
      "execution_count": null,
      "metadata": {
        "id": "aqPdKRzVyYWA",
        "outputId": "ed234a54-c2e2-4f5d-9eb5-0c0e5941849b"
      },
      "outputs": [
        {
          "data": {
            "text/plain": [
              "array([8.05814643e-01, 1.63050854e-01, 2.13486883e-02, 6.95695814e-03,\n",
              "       1.30786367e-03, 7.27742761e-04, 4.20024207e-04, 2.48721489e-04,\n",
              "       8.53904192e-05, 3.08110199e-05])"
            ]
          },
          "execution_count": 11,
          "metadata": {},
          "output_type": "execute_result"
        }
      ],
      "source": [
        "model.explained_variance_ratio_"
      ]
    },
    {
      "cell_type": "code",
      "execution_count": null,
      "metadata": {
        "id": "Mw651xkcyYWA",
        "outputId": "7351ceeb-e865-4b09-f52f-40cb597015fe"
      },
      "outputs": [
        {
          "name": "stdout",
          "output_type": "stream",
          "text": [
            "0.8058146434977045\n"
          ]
        }
      ],
      "source": [
        "print(model.explained_variance_ratio_[0])"
      ]
    },
    {
      "cell_type": "code",
      "execution_count": null,
      "metadata": {
        "id": "9e8ttvKXyYWB",
        "outputId": "89c6b7c9-b211-403a-f1d0-220504e8322e"
      },
      "outputs": [
        {
          "data": {
            "text/plain": [
              "2"
            ]
          },
          "execution_count": 13,
          "metadata": {},
          "output_type": "execute_result"
        }
      ],
      "source": [
        "np.argmax(np.cumsum(model.explained_variance_ratio_) >= 0.95 ) + 1"
      ]
    },
    {
      "cell_type": "code",
      "execution_count": null,
      "metadata": {
        "colab": {
          "base_uri": "https://localhost:8080/"
        },
        "id": "BfzsLir1yYWB",
        "outputId": "1ce507c9-5ba6-4fc2-b981-2062f299f405"
      },
      "outputs": [
        {
          "output_type": "execute_result",
          "data": {
            "text/plain": [
              "array([[-2.68412563,  0.31939725],\n",
              "       [-2.71414169, -0.17700123],\n",
              "       [-2.88899057, -0.14494943],\n",
              "       [-2.74534286, -0.31829898],\n",
              "       [-2.72871654,  0.32675451],\n",
              "       [-2.28085963,  0.74133045],\n",
              "       [-2.82053775, -0.08946138],\n",
              "       [-2.62614497,  0.16338496],\n",
              "       [-2.88638273, -0.57831175],\n",
              "       [-2.6727558 , -0.11377425],\n",
              "       [-2.50694709,  0.6450689 ],\n",
              "       [-2.61275523,  0.01472994],\n",
              "       [-2.78610927, -0.235112  ],\n",
              "       [-3.22380374, -0.51139459],\n",
              "       [-2.64475039,  1.17876464],\n",
              "       [-2.38603903,  1.33806233],\n",
              "       [-2.62352788,  0.81067951],\n",
              "       [-2.64829671,  0.31184914],\n",
              "       [-2.19982032,  0.87283904],\n",
              "       [-2.5879864 ,  0.51356031],\n",
              "       [-2.31025622,  0.39134594],\n",
              "       [-2.54370523,  0.43299606],\n",
              "       [-3.21593942,  0.13346807],\n",
              "       [-2.30273318,  0.09870885],\n",
              "       [-2.35575405, -0.03728186],\n",
              "       [-2.50666891, -0.14601688],\n",
              "       [-2.46882007,  0.13095149],\n",
              "       [-2.56231991,  0.36771886],\n",
              "       [-2.63953472,  0.31203998],\n",
              "       [-2.63198939, -0.19696122],\n",
              "       [-2.58739848, -0.20431849],\n",
              "       [-2.4099325 ,  0.41092426],\n",
              "       [-2.64886233,  0.81336382],\n",
              "       [-2.59873675,  1.09314576],\n",
              "       [-2.63692688, -0.12132235],\n",
              "       [-2.86624165,  0.06936447],\n",
              "       [-2.62523805,  0.59937002],\n",
              "       [-2.80068412,  0.26864374],\n",
              "       [-2.98050204, -0.48795834],\n",
              "       [-2.59000631,  0.22904384],\n",
              "       [-2.77010243,  0.26352753],\n",
              "       [-2.84936871, -0.94096057],\n",
              "       [-2.99740655, -0.34192606],\n",
              "       [-2.40561449,  0.18887143],\n",
              "       [-2.20948924,  0.43666314],\n",
              "       [-2.71445143, -0.2502082 ],\n",
              "       [-2.53814826,  0.50377114],\n",
              "       [-2.83946217, -0.22794557],\n",
              "       [-2.54308575,  0.57941002],\n",
              "       [-2.70335978,  0.10770608],\n",
              "       [ 1.28482569,  0.68516047],\n",
              "       [ 0.93248853,  0.31833364],\n",
              "       [ 1.46430232,  0.50426282],\n",
              "       [ 0.18331772, -0.82795901],\n",
              "       [ 1.08810326,  0.07459068],\n",
              "       [ 0.64166908, -0.41824687],\n",
              "       [ 1.09506066,  0.28346827],\n",
              "       [-0.74912267, -1.00489096],\n",
              "       [ 1.04413183,  0.2283619 ],\n",
              "       [-0.0087454 , -0.72308191],\n",
              "       [-0.50784088, -1.26597119],\n",
              "       [ 0.51169856, -0.10398124],\n",
              "       [ 0.26497651, -0.55003646],\n",
              "       [ 0.98493451, -0.12481785],\n",
              "       [-0.17392537, -0.25485421],\n",
              "       [ 0.92786078,  0.46717949],\n",
              "       [ 0.66028376, -0.35296967],\n",
              "       [ 0.23610499, -0.33361077],\n",
              "       [ 0.94473373, -0.54314555],\n",
              "       [ 0.04522698, -0.58383438],\n",
              "       [ 1.11628318, -0.08461685],\n",
              "       [ 0.35788842, -0.06892503],\n",
              "       [ 1.29818388, -0.32778731],\n",
              "       [ 0.92172892, -0.18273779],\n",
              "       [ 0.71485333,  0.14905594],\n",
              "       [ 0.90017437,  0.32850447],\n",
              "       [ 1.33202444,  0.24444088],\n",
              "       [ 1.55780216,  0.26749545],\n",
              "       [ 0.81329065, -0.1633503 ],\n",
              "       [-0.30558378, -0.36826219],\n",
              "       [-0.06812649, -0.70517213],\n",
              "       [-0.18962247, -0.68028676],\n",
              "       [ 0.13642871, -0.31403244],\n",
              "       [ 1.38002644, -0.42095429],\n",
              "       [ 0.58800644, -0.48428742],\n",
              "       [ 0.80685831,  0.19418231],\n",
              "       [ 1.22069088,  0.40761959],\n",
              "       [ 0.81509524, -0.37203706],\n",
              "       [ 0.24595768, -0.2685244 ],\n",
              "       [ 0.16641322, -0.68192672],\n",
              "       [ 0.46480029, -0.67071154],\n",
              "       [ 0.8908152 , -0.03446444],\n",
              "       [ 0.23054802, -0.40438585],\n",
              "       [-0.70453176, -1.01224823],\n",
              "       [ 0.35698149, -0.50491009],\n",
              "       [ 0.33193448, -0.21265468],\n",
              "       [ 0.37621565, -0.29321893],\n",
              "       [ 0.64257601,  0.01773819],\n",
              "       [-0.90646986, -0.75609337],\n",
              "       [ 0.29900084, -0.34889781],\n",
              "       [ 2.53119273, -0.00984911],\n",
              "       [ 1.41523588, -0.57491635],\n",
              "       [ 2.61667602,  0.34390315],\n",
              "       [ 1.97153105, -0.1797279 ],\n",
              "       [ 2.35000592, -0.04026095],\n",
              "       [ 3.39703874,  0.55083667],\n",
              "       [ 0.52123224, -1.19275873],\n",
              "       [ 2.93258707,  0.3555    ],\n",
              "       [ 2.32122882, -0.2438315 ],\n",
              "       [ 2.91675097,  0.78279195],\n",
              "       [ 1.66177415,  0.24222841],\n",
              "       [ 1.80340195, -0.21563762],\n",
              "       [ 2.1655918 ,  0.21627559],\n",
              "       [ 1.34616358, -0.77681835],\n",
              "       [ 1.58592822, -0.53964071],\n",
              "       [ 1.90445637,  0.11925069],\n",
              "       [ 1.94968906,  0.04194326],\n",
              "       [ 3.48705536,  1.17573933],\n",
              "       [ 3.79564542,  0.25732297],\n",
              "       [ 1.30079171, -0.76114964],\n",
              "       [ 2.42781791,  0.37819601],\n",
              "       [ 1.19900111, -0.60609153],\n",
              "       [ 3.49992004,  0.4606741 ],\n",
              "       [ 1.38876613, -0.20439933],\n",
              "       [ 2.2754305 ,  0.33499061],\n",
              "       [ 2.61409047,  0.56090136],\n",
              "       [ 1.25850816, -0.17970479],\n",
              "       [ 1.29113206, -0.11666865],\n",
              "       [ 2.12360872, -0.20972948],\n",
              "       [ 2.38800302,  0.4646398 ],\n",
              "       [ 2.84167278,  0.37526917],\n",
              "       [ 3.23067366,  1.37416509],\n",
              "       [ 2.15943764, -0.21727758],\n",
              "       [ 1.44416124, -0.14341341],\n",
              "       [ 1.78129481, -0.49990168],\n",
              "       [ 3.07649993,  0.68808568],\n",
              "       [ 2.14424331,  0.1400642 ],\n",
              "       [ 1.90509815,  0.04930053],\n",
              "       [ 1.16932634, -0.16499026],\n",
              "       [ 2.10761114,  0.37228787],\n",
              "       [ 2.31415471,  0.18365128],\n",
              "       [ 1.9222678 ,  0.40920347],\n",
              "       [ 1.41523588, -0.57491635],\n",
              "       [ 2.56301338,  0.2778626 ],\n",
              "       [ 2.41874618,  0.3047982 ],\n",
              "       [ 1.94410979,  0.1875323 ],\n",
              "       [ 1.52716661, -0.37531698],\n",
              "       [ 1.76434572,  0.07885885],\n",
              "       [ 1.90094161,  0.11662796],\n",
              "       [ 1.39018886, -0.28266094]])"
            ]
          },
          "metadata": {},
          "execution_count": 19
        }
      ],
      "source": [
        "# Better option (indicate the ratio of variance you wish to preserve)\n",
        "\n",
        "iris = datasets.load_iris()\n",
        "x = iris.data\n",
        "y = iris.target\n",
        "\n",
        "model = decomposition.PCA(n_components=0.95) # Explains 95% of total variance\n",
        "model.fit(x)\n",
        "x = model.transform(x)\n",
        "x"
      ]
    }
  ],
  "metadata": {
    "kernelspec": {
      "display_name": "Python 3",
      "language": "python",
      "name": "python3"
    },
    "language_info": {
      "codemirror_mode": {
        "name": "ipython",
        "version": 3
      },
      "file_extension": ".py",
      "mimetype": "text/x-python",
      "name": "python",
      "nbconvert_exporter": "python",
      "pygments_lexer": "ipython3",
      "version": "3.8.8"
    },
    "colab": {
      "provenance": [],
      "include_colab_link": true
    }
  },
  "nbformat": 4,
  "nbformat_minor": 0
}