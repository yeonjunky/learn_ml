{
  "cells": [
    {
      "cell_type": "markdown",
      "metadata": {
        "id": "view-in-github",
        "colab_type": "text"
      },
      "source": [
        "<a href=\"https://colab.research.google.com/github/yeonjunky/learn_ml/blob/main/2_Least_Squares_Estimation_(Scikit_learn_LinearRegression%2C_%EB%8B%B9%EB%87%A8%EB%B3%91_%EC%98%88%EC%B8%A1).ipynb\" target=\"_parent\"><img src=\"https://colab.research.google.com/assets/colab-badge.svg\" alt=\"Open In Colab\"/></a>"
      ]
    },
    {
      "cell_type": "code",
      "execution_count": 1,
      "metadata": {
        "id": "2e5_RilL26LI"
      },
      "outputs": [],
      "source": [
        "import numpy as np\n",
        "import pandas as pd\n",
        "import matplotlib.pyplot as plt\n",
        "\n",
        "from sklearn import datasets, model_selection, linear_model\n",
        "from sklearn.metrics import mean_squared_error"
      ]
    },
    {
      "cell_type": "markdown",
      "metadata": {
        "id": "9PV59eaz26LM"
      },
      "source": [
        "<br>\n",
        "<br>\n",
        "\n",
        "#### 1. (당뇨병 진행도) 데이터 읽어들이기"
      ]
    },
    {
      "cell_type": "code",
      "source": [
        "diabetes = datasets.load_diabetes()"
      ],
      "metadata": {
        "id": "0xv-fZuq3mjF"
      },
      "execution_count": 3,
      "outputs": []
    },
    {
      "cell_type": "code",
      "source": [
        "diabetes"
      ],
      "metadata": {
        "colab": {
          "base_uri": "https://localhost:8080/"
        },
        "id": "RIhHeNRO3kYn",
        "outputId": "7afe6a38-c318-4a04-d4ea-531d0d92e36c"
      },
      "execution_count": 4,
      "outputs": [
        {
          "output_type": "execute_result",
          "data": {
            "text/plain": [
              "{'data': array([[ 0.03807591,  0.05068012,  0.06169621, ..., -0.00259226,\n",
              "          0.01990749, -0.01764613],\n",
              "        [-0.00188202, -0.04464164, -0.05147406, ..., -0.03949338,\n",
              "         -0.06833155, -0.09220405],\n",
              "        [ 0.08529891,  0.05068012,  0.04445121, ..., -0.00259226,\n",
              "          0.00286131, -0.02593034],\n",
              "        ...,\n",
              "        [ 0.04170844,  0.05068012, -0.01590626, ..., -0.01107952,\n",
              "         -0.04688253,  0.01549073],\n",
              "        [-0.04547248, -0.04464164,  0.03906215, ...,  0.02655962,\n",
              "          0.04452873, -0.02593034],\n",
              "        [-0.04547248, -0.04464164, -0.0730303 , ..., -0.03949338,\n",
              "         -0.00422151,  0.00306441]]),\n",
              " 'target': array([151.,  75., 141., 206., 135.,  97., 138.,  63., 110., 310., 101.,\n",
              "         69., 179., 185., 118., 171., 166., 144.,  97., 168.,  68.,  49.,\n",
              "         68., 245., 184., 202., 137.,  85., 131., 283., 129.,  59., 341.,\n",
              "         87.,  65., 102., 265., 276., 252.,  90., 100.,  55.,  61.,  92.,\n",
              "        259.,  53., 190., 142.,  75., 142., 155., 225.,  59., 104., 182.,\n",
              "        128.,  52.,  37., 170., 170.,  61., 144.,  52., 128.,  71., 163.,\n",
              "        150.,  97., 160., 178.,  48., 270., 202., 111.,  85.,  42., 170.,\n",
              "        200., 252., 113., 143.,  51.,  52., 210.,  65., 141.,  55., 134.,\n",
              "         42., 111.,  98., 164.,  48.,  96.,  90., 162., 150., 279.,  92.,\n",
              "         83., 128., 102., 302., 198.,  95.,  53., 134., 144., 232.,  81.,\n",
              "        104.,  59., 246., 297., 258., 229., 275., 281., 179., 200., 200.,\n",
              "        173., 180.,  84., 121., 161.,  99., 109., 115., 268., 274., 158.,\n",
              "        107.,  83., 103., 272.,  85., 280., 336., 281., 118., 317., 235.,\n",
              "         60., 174., 259., 178., 128.,  96., 126., 288.,  88., 292.,  71.,\n",
              "        197., 186.,  25.,  84.,  96., 195.,  53., 217., 172., 131., 214.,\n",
              "         59.,  70., 220., 268., 152.,  47.,  74., 295., 101., 151., 127.,\n",
              "        237., 225.,  81., 151., 107.,  64., 138., 185., 265., 101., 137.,\n",
              "        143., 141.,  79., 292., 178.,  91., 116.,  86., 122.,  72., 129.,\n",
              "        142.,  90., 158.,  39., 196., 222., 277.,  99., 196., 202., 155.,\n",
              "         77., 191.,  70.,  73.,  49.,  65., 263., 248., 296., 214., 185.,\n",
              "         78.,  93., 252., 150.,  77., 208.,  77., 108., 160.,  53., 220.,\n",
              "        154., 259.,  90., 246., 124.,  67.,  72., 257., 262., 275., 177.,\n",
              "         71.,  47., 187., 125.,  78.,  51., 258., 215., 303., 243.,  91.,\n",
              "        150., 310., 153., 346.,  63.,  89.,  50.,  39., 103., 308., 116.,\n",
              "        145.,  74.,  45., 115., 264.,  87., 202., 127., 182., 241.,  66.,\n",
              "         94., 283.,  64., 102., 200., 265.,  94., 230., 181., 156., 233.,\n",
              "         60., 219.,  80.,  68., 332., 248.,  84., 200.,  55.,  85.,  89.,\n",
              "         31., 129.,  83., 275.,  65., 198., 236., 253., 124.,  44., 172.,\n",
              "        114., 142., 109., 180., 144., 163., 147.,  97., 220., 190., 109.,\n",
              "        191., 122., 230., 242., 248., 249., 192., 131., 237.,  78., 135.,\n",
              "        244., 199., 270., 164.,  72.,  96., 306.,  91., 214.,  95., 216.,\n",
              "        263., 178., 113., 200., 139., 139.,  88., 148.,  88., 243.,  71.,\n",
              "         77., 109., 272.,  60.,  54., 221.,  90., 311., 281., 182., 321.,\n",
              "         58., 262., 206., 233., 242., 123., 167.,  63., 197.,  71., 168.,\n",
              "        140., 217., 121., 235., 245.,  40.,  52., 104., 132.,  88.,  69.,\n",
              "        219.,  72., 201., 110.,  51., 277.,  63., 118.,  69., 273., 258.,\n",
              "         43., 198., 242., 232., 175.,  93., 168., 275., 293., 281.,  72.,\n",
              "        140., 189., 181., 209., 136., 261., 113., 131., 174., 257.,  55.,\n",
              "         84.,  42., 146., 212., 233.,  91., 111., 152., 120.,  67., 310.,\n",
              "         94., 183.,  66., 173.,  72.,  49.,  64.,  48., 178., 104., 132.,\n",
              "        220.,  57.]),\n",
              " 'frame': None,\n",
              " 'DESCR': '.. _diabetes_dataset:\\n\\nDiabetes dataset\\n----------------\\n\\nTen baseline variables, age, sex, body mass index, average blood\\npressure, and six blood serum measurements were obtained for each of n =\\n442 diabetes patients, as well as the response of interest, a\\nquantitative measure of disease progression one year after baseline.\\n\\n**Data Set Characteristics:**\\n\\n  :Number of Instances: 442\\n\\n  :Number of Attributes: First 10 columns are numeric predictive values\\n\\n  :Target: Column 11 is a quantitative measure of disease progression one year after baseline\\n\\n  :Attribute Information:\\n      - age     age in years\\n      - sex\\n      - bmi     body mass index\\n      - bp      average blood pressure\\n      - s1      tc, total serum cholesterol\\n      - s2      ldl, low-density lipoproteins\\n      - s3      hdl, high-density lipoproteins\\n      - s4      tch, total cholesterol / HDL\\n      - s5      ltg, possibly log of serum triglycerides level\\n      - s6      glu, blood sugar level\\n\\nNote: Each of these 10 feature variables have been mean centered and scaled by the standard deviation times the square root of `n_samples` (i.e. the sum of squares of each column totals 1).\\n\\nSource URL:\\nhttps://www4.stat.ncsu.edu/~boos/var.select/diabetes.html\\n\\nFor more information see:\\nBradley Efron, Trevor Hastie, Iain Johnstone and Robert Tibshirani (2004) \"Least Angle Regression,\" Annals of Statistics (with discussion), 407-499.\\n(https://web.stanford.edu/~hastie/Papers/LARS/LeastAngle_2002.pdf)\\n',\n",
              " 'feature_names': ['age',\n",
              "  'sex',\n",
              "  'bmi',\n",
              "  'bp',\n",
              "  's1',\n",
              "  's2',\n",
              "  's3',\n",
              "  's4',\n",
              "  's5',\n",
              "  's6'],\n",
              " 'data_filename': 'diabetes_data_raw.csv.gz',\n",
              " 'target_filename': 'diabetes_target.csv.gz',\n",
              " 'data_module': 'sklearn.datasets.data'}"
            ]
          },
          "metadata": {},
          "execution_count": 4
        }
      ]
    },
    {
      "cell_type": "code",
      "execution_count": 5,
      "metadata": {
        "collapsed": true,
        "colab": {
          "base_uri": "https://localhost:8080/"
        },
        "id": "pg4TGQcr26LP",
        "outputId": "9d7ce926-40b2-4f71-aeef-8c65801ab576"
      },
      "outputs": [
        {
          "output_type": "execute_result",
          "data": {
            "text/plain": [
              "dict_keys(['data', 'target', 'frame', 'DESCR', 'feature_names', 'data_filename', 'target_filename', 'data_module'])"
            ]
          },
          "metadata": {},
          "execution_count": 5
        }
      ],
      "source": [
        "diabetes.keys()"
      ]
    },
    {
      "cell_type": "code",
      "execution_count": null,
      "metadata": {
        "id": "yplBk9IB26LP",
        "outputId": "dc76bb4e-1603-4ddd-d736-11dacb6369e8"
      },
      "outputs": [
        {
          "data": {
            "text/plain": [
              "['data', 'target']"
            ]
          },
          "execution_count": 8,
          "metadata": {},
          "output_type": "execute_result"
        }
      ],
      "source": [
        "dir(diabetes)"
      ]
    },
    {
      "cell_type": "code",
      "source": [
        "print(diabetes['data'].shape)\n",
        "print(diabetes.target.shape)\n",
        "print(diabetes.DESCR)"
      ],
      "metadata": {
        "colab": {
          "base_uri": "https://localhost:8080/"
        },
        "id": "JWboXJC14NK8",
        "outputId": "72241ee5-7925-4340-9b23-a8f60c70f5d2"
      },
      "execution_count": 12,
      "outputs": [
        {
          "output_type": "stream",
          "name": "stdout",
          "text": [
            "(442, 10)\n",
            "(442,)\n",
            ".. _diabetes_dataset:\n",
            "\n",
            "Diabetes dataset\n",
            "----------------\n",
            "\n",
            "Ten baseline variables, age, sex, body mass index, average blood\n",
            "pressure, and six blood serum measurements were obtained for each of n =\n",
            "442 diabetes patients, as well as the response of interest, a\n",
            "quantitative measure of disease progression one year after baseline.\n",
            "\n",
            "**Data Set Characteristics:**\n",
            "\n",
            "  :Number of Instances: 442\n",
            "\n",
            "  :Number of Attributes: First 10 columns are numeric predictive values\n",
            "\n",
            "  :Target: Column 11 is a quantitative measure of disease progression one year after baseline\n",
            "\n",
            "  :Attribute Information:\n",
            "      - age     age in years\n",
            "      - sex\n",
            "      - bmi     body mass index\n",
            "      - bp      average blood pressure\n",
            "      - s1      tc, total serum cholesterol\n",
            "      - s2      ldl, low-density lipoproteins\n",
            "      - s3      hdl, high-density lipoproteins\n",
            "      - s4      tch, total cholesterol / HDL\n",
            "      - s5      ltg, possibly log of serum triglycerides level\n",
            "      - s6      glu, blood sugar level\n",
            "\n",
            "Note: Each of these 10 feature variables have been mean centered and scaled by the standard deviation times the square root of `n_samples` (i.e. the sum of squares of each column totals 1).\n",
            "\n",
            "Source URL:\n",
            "https://www4.stat.ncsu.edu/~boos/var.select/diabetes.html\n",
            "\n",
            "For more information see:\n",
            "Bradley Efron, Trevor Hastie, Iain Johnstone and Robert Tibshirani (2004) \"Least Angle Regression,\" Annals of Statistics (with discussion), 407-499.\n",
            "(https://web.stanford.edu/~hastie/Papers/LARS/LeastAngle_2002.pdf)\n",
            "\n"
          ]
        }
      ]
    },
    {
      "cell_type": "code",
      "execution_count": 8,
      "metadata": {
        "colab": {
          "base_uri": "https://localhost:8080/",
          "height": 250
        },
        "id": "kP9LeWB526LR",
        "outputId": "03e24c4f-7923-4db7-8b32-a4df20738c28"
      },
      "outputs": [
        {
          "output_type": "execute_result",
          "data": {
            "text/plain": [
              "          0         1         2         3         4         5         6  \\\n",
              "0  0.038076  0.050680  0.061696  0.021872 -0.044223 -0.034821 -0.043401   \n",
              "1 -0.001882 -0.044642 -0.051474 -0.026328 -0.008449 -0.019163  0.074412   \n",
              "2  0.085299  0.050680  0.044451 -0.005670 -0.045599 -0.034194 -0.032356   \n",
              "3 -0.089063 -0.044642 -0.011595 -0.036656  0.012191  0.024991 -0.036038   \n",
              "4  0.005383 -0.044642 -0.036385  0.021872  0.003935  0.015596  0.008142   \n",
              "\n",
              "          7         8         9  \n",
              "0 -0.002592  0.019907 -0.017646  \n",
              "1 -0.039493 -0.068332 -0.092204  \n",
              "2 -0.002592  0.002861 -0.025930  \n",
              "3  0.034309  0.022688 -0.009362  \n",
              "4 -0.002592 -0.031988 -0.046641  "
            ],
            "text/html": [
              "\n",
              "  <div id=\"df-0b5de727-e256-4db7-80a9-b38bb06d4135\">\n",
              "    <div class=\"colab-df-container\">\n",
              "      <div>\n",
              "<style scoped>\n",
              "    .dataframe tbody tr th:only-of-type {\n",
              "        vertical-align: middle;\n",
              "    }\n",
              "\n",
              "    .dataframe tbody tr th {\n",
              "        vertical-align: top;\n",
              "    }\n",
              "\n",
              "    .dataframe thead th {\n",
              "        text-align: right;\n",
              "    }\n",
              "</style>\n",
              "<table border=\"1\" class=\"dataframe\">\n",
              "  <thead>\n",
              "    <tr style=\"text-align: right;\">\n",
              "      <th></th>\n",
              "      <th>0</th>\n",
              "      <th>1</th>\n",
              "      <th>2</th>\n",
              "      <th>3</th>\n",
              "      <th>4</th>\n",
              "      <th>5</th>\n",
              "      <th>6</th>\n",
              "      <th>7</th>\n",
              "      <th>8</th>\n",
              "      <th>9</th>\n",
              "    </tr>\n",
              "  </thead>\n",
              "  <tbody>\n",
              "    <tr>\n",
              "      <th>0</th>\n",
              "      <td>0.038076</td>\n",
              "      <td>0.050680</td>\n",
              "      <td>0.061696</td>\n",
              "      <td>0.021872</td>\n",
              "      <td>-0.044223</td>\n",
              "      <td>-0.034821</td>\n",
              "      <td>-0.043401</td>\n",
              "      <td>-0.002592</td>\n",
              "      <td>0.019907</td>\n",
              "      <td>-0.017646</td>\n",
              "    </tr>\n",
              "    <tr>\n",
              "      <th>1</th>\n",
              "      <td>-0.001882</td>\n",
              "      <td>-0.044642</td>\n",
              "      <td>-0.051474</td>\n",
              "      <td>-0.026328</td>\n",
              "      <td>-0.008449</td>\n",
              "      <td>-0.019163</td>\n",
              "      <td>0.074412</td>\n",
              "      <td>-0.039493</td>\n",
              "      <td>-0.068332</td>\n",
              "      <td>-0.092204</td>\n",
              "    </tr>\n",
              "    <tr>\n",
              "      <th>2</th>\n",
              "      <td>0.085299</td>\n",
              "      <td>0.050680</td>\n",
              "      <td>0.044451</td>\n",
              "      <td>-0.005670</td>\n",
              "      <td>-0.045599</td>\n",
              "      <td>-0.034194</td>\n",
              "      <td>-0.032356</td>\n",
              "      <td>-0.002592</td>\n",
              "      <td>0.002861</td>\n",
              "      <td>-0.025930</td>\n",
              "    </tr>\n",
              "    <tr>\n",
              "      <th>3</th>\n",
              "      <td>-0.089063</td>\n",
              "      <td>-0.044642</td>\n",
              "      <td>-0.011595</td>\n",
              "      <td>-0.036656</td>\n",
              "      <td>0.012191</td>\n",
              "      <td>0.024991</td>\n",
              "      <td>-0.036038</td>\n",
              "      <td>0.034309</td>\n",
              "      <td>0.022688</td>\n",
              "      <td>-0.009362</td>\n",
              "    </tr>\n",
              "    <tr>\n",
              "      <th>4</th>\n",
              "      <td>0.005383</td>\n",
              "      <td>-0.044642</td>\n",
              "      <td>-0.036385</td>\n",
              "      <td>0.021872</td>\n",
              "      <td>0.003935</td>\n",
              "      <td>0.015596</td>\n",
              "      <td>0.008142</td>\n",
              "      <td>-0.002592</td>\n",
              "      <td>-0.031988</td>\n",
              "      <td>-0.046641</td>\n",
              "    </tr>\n",
              "  </tbody>\n",
              "</table>\n",
              "</div>\n",
              "      <button class=\"colab-df-convert\" onclick=\"convertToInteractive('df-0b5de727-e256-4db7-80a9-b38bb06d4135')\"\n",
              "              title=\"Convert this dataframe to an interactive table.\"\n",
              "              style=\"display:none;\">\n",
              "        \n",
              "  <svg xmlns=\"http://www.w3.org/2000/svg\" height=\"24px\"viewBox=\"0 0 24 24\"\n",
              "       width=\"24px\">\n",
              "    <path d=\"M0 0h24v24H0V0z\" fill=\"none\"/>\n",
              "    <path d=\"M18.56 5.44l.94 2.06.94-2.06 2.06-.94-2.06-.94-.94-2.06-.94 2.06-2.06.94zm-11 1L8.5 8.5l.94-2.06 2.06-.94-2.06-.94L8.5 2.5l-.94 2.06-2.06.94zm10 10l.94 2.06.94-2.06 2.06-.94-2.06-.94-.94-2.06-.94 2.06-2.06.94z\"/><path d=\"M17.41 7.96l-1.37-1.37c-.4-.4-.92-.59-1.43-.59-.52 0-1.04.2-1.43.59L10.3 9.45l-7.72 7.72c-.78.78-.78 2.05 0 2.83L4 21.41c.39.39.9.59 1.41.59.51 0 1.02-.2 1.41-.59l7.78-7.78 2.81-2.81c.8-.78.8-2.07 0-2.86zM5.41 20L4 18.59l7.72-7.72 1.47 1.35L5.41 20z\"/>\n",
              "  </svg>\n",
              "      </button>\n",
              "      \n",
              "  <style>\n",
              "    .colab-df-container {\n",
              "      display:flex;\n",
              "      flex-wrap:wrap;\n",
              "      gap: 12px;\n",
              "    }\n",
              "\n",
              "    .colab-df-convert {\n",
              "      background-color: #E8F0FE;\n",
              "      border: none;\n",
              "      border-radius: 50%;\n",
              "      cursor: pointer;\n",
              "      display: none;\n",
              "      fill: #1967D2;\n",
              "      height: 32px;\n",
              "      padding: 0 0 0 0;\n",
              "      width: 32px;\n",
              "    }\n",
              "\n",
              "    .colab-df-convert:hover {\n",
              "      background-color: #E2EBFA;\n",
              "      box-shadow: 0px 1px 2px rgba(60, 64, 67, 0.3), 0px 1px 3px 1px rgba(60, 64, 67, 0.15);\n",
              "      fill: #174EA6;\n",
              "    }\n",
              "\n",
              "    [theme=dark] .colab-df-convert {\n",
              "      background-color: #3B4455;\n",
              "      fill: #D2E3FC;\n",
              "    }\n",
              "\n",
              "    [theme=dark] .colab-df-convert:hover {\n",
              "      background-color: #434B5C;\n",
              "      box-shadow: 0px 1px 3px 1px rgba(0, 0, 0, 0.15);\n",
              "      filter: drop-shadow(0px 1px 2px rgba(0, 0, 0, 0.3));\n",
              "      fill: #FFFFFF;\n",
              "    }\n",
              "  </style>\n",
              "\n",
              "      <script>\n",
              "        const buttonEl =\n",
              "          document.querySelector('#df-0b5de727-e256-4db7-80a9-b38bb06d4135 button.colab-df-convert');\n",
              "        buttonEl.style.display =\n",
              "          google.colab.kernel.accessAllowed ? 'block' : 'none';\n",
              "\n",
              "        async function convertToInteractive(key) {\n",
              "          const element = document.querySelector('#df-0b5de727-e256-4db7-80a9-b38bb06d4135');\n",
              "          const dataTable =\n",
              "            await google.colab.kernel.invokeFunction('convertToInteractive',\n",
              "                                                     [key], {});\n",
              "          if (!dataTable) return;\n",
              "\n",
              "          const docLinkHtml = 'Like what you see? Visit the ' +\n",
              "            '<a target=\"_blank\" href=https://colab.research.google.com/notebooks/data_table.ipynb>data table notebook</a>'\n",
              "            + ' to learn more about interactive tables.';\n",
              "          element.innerHTML = '';\n",
              "          dataTable['output_type'] = 'display_data';\n",
              "          await google.colab.output.renderOutput(dataTable, element);\n",
              "          const docLink = document.createElement('div');\n",
              "          docLink.innerHTML = docLinkHtml;\n",
              "          element.appendChild(docLink);\n",
              "        }\n",
              "      </script>\n",
              "    </div>\n",
              "  </div>\n",
              "  "
            ]
          },
          "metadata": {},
          "execution_count": 8
        }
      ],
      "source": [
        "df = pd.DataFrame(diabetes.data) # Array to dataframe\n",
        "df.head()"
      ]
    },
    {
      "cell_type": "markdown",
      "metadata": {
        "id": "_ZEDRrSi26LU"
      },
      "source": [
        "- 나이, 성별, BMI(body mass index) 지수, 혈압 및 6개의 혈청 검사 수치\n",
        "- -> 1년 후의 당뇨병 진행도"
      ]
    },
    {
      "cell_type": "markdown",
      "metadata": {
        "id": "VTeii1UI26LV"
      },
      "source": [
        "#### 기본적으로 array 형태로 저장되어 있으므로 바로 활용 가능"
      ]
    },
    {
      "cell_type": "code",
      "execution_count": 11,
      "metadata": {
        "colab": {
          "base_uri": "https://localhost:8080/"
        },
        "id": "bmgyYoFJ26LW",
        "outputId": "db612d09-64e8-4cb5-e39b-ac4bdc50c6f5"
      },
      "outputs": [
        {
          "output_type": "stream",
          "name": "stdout",
          "text": [
            "(442, 10)\n",
            "(442,)\n"
          ]
        }
      ],
      "source": [
        "print(diabetes.data.shape) # '모양'\n",
        "print(diabetes.target.shape)"
      ]
    },
    {
      "cell_type": "code",
      "execution_count": 13,
      "metadata": {
        "colab": {
          "base_uri": "https://localhost:8080/"
        },
        "id": "YRaklOvQ26LX",
        "outputId": "2e2bb3df-24e1-47bb-f2c9-b476200aaabc"
      },
      "outputs": [
        {
          "output_type": "execute_result",
          "data": {
            "text/plain": [
              "array([ 0.03807591,  0.05068012,  0.06169621,  0.02187239, -0.0442235 ,\n",
              "       -0.03482076, -0.04340085, -0.00259226,  0.01990749, -0.01764613])"
            ]
          },
          "metadata": {},
          "execution_count": 13
        }
      ],
      "source": [
        "diabetes.data[0, :]"
      ]
    },
    {
      "cell_type": "markdown",
      "metadata": {
        "id": "KDn4Jr-Y26LX"
      },
      "source": [
        "<br>\n",
        "<br>\n",
        "\n",
        "#### 2. Feature 선택하기"
      ]
    },
    {
      "cell_type": "code",
      "execution_count": 14,
      "metadata": {
        "colab": {
          "base_uri": "https://localhost:8080/"
        },
        "id": "om660y8Z26LY",
        "outputId": "4d9aa525-4be2-4c33-c506-805ba24b0100"
      },
      "outputs": [
        {
          "output_type": "execute_result",
          "data": {
            "text/plain": [
              "array([[ 0.06169621],\n",
              "       [-0.05147406],\n",
              "       [ 0.04445121],\n",
              "       [-0.01159501],\n",
              "       [-0.03638469],\n",
              "       [-0.04069594],\n",
              "       [-0.04716281],\n",
              "       [-0.00189471],\n",
              "       [ 0.06169621],\n",
              "       [ 0.03906215],\n",
              "       [-0.08380842],\n",
              "       [ 0.01750591],\n",
              "       [-0.02884001],\n",
              "       [-0.00189471],\n",
              "       [-0.02560657],\n",
              "       [-0.01806189],\n",
              "       [ 0.04229559],\n",
              "       [ 0.01211685],\n",
              "       [-0.0105172 ],\n",
              "       [-0.01806189],\n",
              "       [-0.05686312],\n",
              "       [-0.02237314],\n",
              "       [-0.00405033],\n",
              "       [ 0.06061839],\n",
              "       [ 0.03582872],\n",
              "       [-0.01267283],\n",
              "       [-0.07734155],\n",
              "       [ 0.05954058],\n",
              "       [-0.02129532],\n",
              "       [-0.00620595],\n",
              "       [ 0.04445121],\n",
              "       [-0.06548562],\n",
              "       [ 0.12528712],\n",
              "       [-0.05039625],\n",
              "       [-0.06332999],\n",
              "       [-0.03099563],\n",
              "       [ 0.02289497],\n",
              "       [ 0.01103904],\n",
              "       [ 0.07139652],\n",
              "       [ 0.01427248],\n",
              "       [-0.00836158],\n",
              "       [-0.06764124],\n",
              "       [-0.0105172 ],\n",
              "       [-0.02345095],\n",
              "       [ 0.06816308],\n",
              "       [-0.03530688],\n",
              "       [-0.01159501],\n",
              "       [-0.0730303 ],\n",
              "       [-0.04177375],\n",
              "       [ 0.01427248],\n",
              "       [-0.00728377],\n",
              "       [ 0.0164281 ],\n",
              "       [-0.00943939],\n",
              "       [-0.01590626],\n",
              "       [ 0.0250506 ],\n",
              "       [-0.04931844],\n",
              "       [ 0.04121778],\n",
              "       [-0.06332999],\n",
              "       [-0.06440781],\n",
              "       [-0.02560657],\n",
              "       [-0.00405033],\n",
              "       [ 0.00457217],\n",
              "       [-0.00728377],\n",
              "       [-0.0374625 ],\n",
              "       [-0.02560657],\n",
              "       [-0.02452876],\n",
              "       [-0.01806189],\n",
              "       [-0.01482845],\n",
              "       [-0.02991782],\n",
              "       [-0.046085  ],\n",
              "       [-0.06979687],\n",
              "       [ 0.03367309],\n",
              "       [-0.00405033],\n",
              "       [-0.02021751],\n",
              "       [ 0.00241654],\n",
              "       [-0.03099563],\n",
              "       [ 0.02828403],\n",
              "       [-0.03638469],\n",
              "       [-0.05794093],\n",
              "       [-0.0374625 ],\n",
              "       [ 0.01211685],\n",
              "       [-0.02237314],\n",
              "       [-0.03530688],\n",
              "       [ 0.00996123],\n",
              "       [-0.03961813],\n",
              "       [ 0.07139652],\n",
              "       [-0.07518593],\n",
              "       [-0.00620595],\n",
              "       [-0.04069594],\n",
              "       [-0.04824063],\n",
              "       [-0.02560657],\n",
              "       [ 0.0519959 ],\n",
              "       [ 0.00457217],\n",
              "       [-0.06440781],\n",
              "       [-0.01698407],\n",
              "       [-0.05794093],\n",
              "       [ 0.00996123],\n",
              "       [ 0.08864151],\n",
              "       [-0.00512814],\n",
              "       [-0.06440781],\n",
              "       [ 0.01750591],\n",
              "       [-0.04500719],\n",
              "       [ 0.02828403],\n",
              "       [ 0.04121778],\n",
              "       [ 0.06492964],\n",
              "       [-0.03207344],\n",
              "       [-0.07626374],\n",
              "       [ 0.04984027],\n",
              "       [ 0.04552903],\n",
              "       [-0.00943939],\n",
              "       [-0.03207344],\n",
              "       [ 0.00457217],\n",
              "       [ 0.02073935],\n",
              "       [ 0.01427248],\n",
              "       [ 0.11019775],\n",
              "       [ 0.00133873],\n",
              "       [ 0.05846277],\n",
              "       [-0.02129532],\n",
              "       [-0.0105172 ],\n",
              "       [-0.04716281],\n",
              "       [ 0.00457217],\n",
              "       [ 0.01750591],\n",
              "       [ 0.08109682],\n",
              "       [ 0.0347509 ],\n",
              "       [ 0.02397278],\n",
              "       [-0.00836158],\n",
              "       [-0.06117437],\n",
              "       [-0.00189471],\n",
              "       [-0.06225218],\n",
              "       [ 0.0164281 ],\n",
              "       [ 0.09618619],\n",
              "       [-0.06979687],\n",
              "       [-0.02129532],\n",
              "       [-0.05362969],\n",
              "       [ 0.0433734 ],\n",
              "       [ 0.05630715],\n",
              "       [-0.0816528 ],\n",
              "       [ 0.04984027],\n",
              "       [ 0.11127556],\n",
              "       [ 0.06169621],\n",
              "       [ 0.01427248],\n",
              "       [ 0.04768465],\n",
              "       [ 0.01211685],\n",
              "       [ 0.00564998],\n",
              "       [ 0.04660684],\n",
              "       [ 0.12852056],\n",
              "       [ 0.05954058],\n",
              "       [ 0.09295276],\n",
              "       [ 0.01535029],\n",
              "       [-0.00512814],\n",
              "       [ 0.0703187 ],\n",
              "       [-0.00405033],\n",
              "       [-0.00081689],\n",
              "       [-0.04392938],\n",
              "       [ 0.02073935],\n",
              "       [ 0.06061839],\n",
              "       [-0.0105172 ],\n",
              "       [-0.03315126],\n",
              "       [-0.06548562],\n",
              "       [ 0.0433734 ],\n",
              "       [-0.06225218],\n",
              "       [ 0.06385183],\n",
              "       [ 0.03043966],\n",
              "       [ 0.07247433],\n",
              "       [-0.0191397 ],\n",
              "       [-0.06656343],\n",
              "       [-0.06009656],\n",
              "       [ 0.06924089],\n",
              "       [ 0.05954058],\n",
              "       [-0.02668438],\n",
              "       [-0.02021751],\n",
              "       [-0.046085  ],\n",
              "       [ 0.07139652],\n",
              "       [-0.07949718],\n",
              "       [ 0.00996123],\n",
              "       [-0.03854032],\n",
              "       [ 0.01966154],\n",
              "       [ 0.02720622],\n",
              "       [-0.00836158],\n",
              "       [-0.01590626],\n",
              "       [ 0.00457217],\n",
              "       [-0.04285156],\n",
              "       [ 0.00564998],\n",
              "       [-0.03530688],\n",
              "       [ 0.02397278],\n",
              "       [-0.01806189],\n",
              "       [ 0.04229559],\n",
              "       [-0.0547075 ],\n",
              "       [-0.00297252],\n",
              "       [-0.06656343],\n",
              "       [-0.01267283],\n",
              "       [-0.04177375],\n",
              "       [-0.03099563],\n",
              "       [-0.00512814],\n",
              "       [-0.05901875],\n",
              "       [ 0.0250506 ],\n",
              "       [-0.046085  ],\n",
              "       [ 0.00349435],\n",
              "       [ 0.05415152],\n",
              "       [-0.04500719],\n",
              "       [-0.05794093],\n",
              "       [-0.05578531],\n",
              "       [ 0.00133873],\n",
              "       [ 0.03043966],\n",
              "       [ 0.00672779],\n",
              "       [ 0.04660684],\n",
              "       [ 0.02612841],\n",
              "       [ 0.04552903],\n",
              "       [ 0.04013997],\n",
              "       [-0.01806189],\n",
              "       [ 0.01427248],\n",
              "       [ 0.03690653],\n",
              "       [ 0.00349435],\n",
              "       [-0.07087468],\n",
              "       [-0.03315126],\n",
              "       [ 0.09403057],\n",
              "       [ 0.03582872],\n",
              "       [ 0.03151747],\n",
              "       [-0.06548562],\n",
              "       [-0.04177375],\n",
              "       [-0.03961813],\n",
              "       [-0.03854032],\n",
              "       [-0.02560657],\n",
              "       [-0.02345095],\n",
              "       [-0.06656343],\n",
              "       [ 0.03259528],\n",
              "       [-0.046085  ],\n",
              "       [-0.02991782],\n",
              "       [-0.01267283],\n",
              "       [-0.01590626],\n",
              "       [ 0.07139652],\n",
              "       [-0.03099563],\n",
              "       [ 0.00026092],\n",
              "       [ 0.03690653],\n",
              "       [ 0.03906215],\n",
              "       [-0.01482845],\n",
              "       [ 0.00672779],\n",
              "       [-0.06871905],\n",
              "       [-0.00943939],\n",
              "       [ 0.01966154],\n",
              "       [ 0.07462995],\n",
              "       [-0.00836158],\n",
              "       [-0.02345095],\n",
              "       [-0.046085  ],\n",
              "       [ 0.05415152],\n",
              "       [-0.03530688],\n",
              "       [-0.03207344],\n",
              "       [-0.0816528 ],\n",
              "       [ 0.04768465],\n",
              "       [ 0.06061839],\n",
              "       [ 0.05630715],\n",
              "       [ 0.09834182],\n",
              "       [ 0.05954058],\n",
              "       [ 0.03367309],\n",
              "       [ 0.05630715],\n",
              "       [-0.06548562],\n",
              "       [ 0.16085492],\n",
              "       [-0.05578531],\n",
              "       [-0.02452876],\n",
              "       [-0.03638469],\n",
              "       [-0.00836158],\n",
              "       [-0.04177375],\n",
              "       [ 0.12744274],\n",
              "       [-0.07734155],\n",
              "       [ 0.02828403],\n",
              "       [-0.02560657],\n",
              "       [-0.06225218],\n",
              "       [-0.00081689],\n",
              "       [ 0.08864151],\n",
              "       [-0.03207344],\n",
              "       [ 0.03043966],\n",
              "       [ 0.00888341],\n",
              "       [ 0.00672779],\n",
              "       [-0.02021751],\n",
              "       [-0.02452876],\n",
              "       [-0.01159501],\n",
              "       [ 0.02612841],\n",
              "       [-0.05901875],\n",
              "       [-0.03638469],\n",
              "       [-0.02452876],\n",
              "       [ 0.01858372],\n",
              "       [-0.0902753 ],\n",
              "       [-0.00512814],\n",
              "       [-0.05255187],\n",
              "       [-0.02237314],\n",
              "       [-0.02021751],\n",
              "       [-0.0547075 ],\n",
              "       [-0.00620595],\n",
              "       [-0.01698407],\n",
              "       [ 0.05522933],\n",
              "       [ 0.07678558],\n",
              "       [ 0.01858372],\n",
              "       [-0.02237314],\n",
              "       [ 0.09295276],\n",
              "       [-0.03099563],\n",
              "       [ 0.03906215],\n",
              "       [-0.06117437],\n",
              "       [-0.00836158],\n",
              "       [-0.0374625 ],\n",
              "       [-0.01375064],\n",
              "       [ 0.07355214],\n",
              "       [-0.02452876],\n",
              "       [ 0.03367309],\n",
              "       [ 0.0347509 ],\n",
              "       [-0.03854032],\n",
              "       [-0.03961813],\n",
              "       [-0.00189471],\n",
              "       [-0.03099563],\n",
              "       [-0.046085  ],\n",
              "       [ 0.00133873],\n",
              "       [ 0.06492964],\n",
              "       [ 0.04013997],\n",
              "       [-0.02345095],\n",
              "       [ 0.05307371],\n",
              "       [ 0.04013997],\n",
              "       [-0.02021751],\n",
              "       [ 0.01427248],\n",
              "       [-0.03422907],\n",
              "       [ 0.00672779],\n",
              "       [ 0.00457217],\n",
              "       [ 0.03043966],\n",
              "       [ 0.0519959 ],\n",
              "       [ 0.06169621],\n",
              "       [-0.00728377],\n",
              "       [ 0.00564998],\n",
              "       [ 0.05415152],\n",
              "       [-0.00836158],\n",
              "       [ 0.114509  ],\n",
              "       [ 0.06708527],\n",
              "       [-0.05578531],\n",
              "       [ 0.03043966],\n",
              "       [-0.02560657],\n",
              "       [ 0.10480869],\n",
              "       [-0.00620595],\n",
              "       [-0.04716281],\n",
              "       [-0.04824063],\n",
              "       [ 0.08540807],\n",
              "       [-0.01267283],\n",
              "       [-0.03315126],\n",
              "       [-0.00728377],\n",
              "       [-0.01375064],\n",
              "       [ 0.05954058],\n",
              "       [ 0.02181716],\n",
              "       [ 0.01858372],\n",
              "       [-0.01159501],\n",
              "       [-0.00297252],\n",
              "       [ 0.01750591],\n",
              "       [-0.02991782],\n",
              "       [-0.02021751],\n",
              "       [-0.05794093],\n",
              "       [ 0.06061839],\n",
              "       [-0.04069594],\n",
              "       [-0.07195249],\n",
              "       [-0.05578531],\n",
              "       [ 0.04552903],\n",
              "       [-0.00943939],\n",
              "       [-0.03315126],\n",
              "       [ 0.04984027],\n",
              "       [-0.08488624],\n",
              "       [ 0.00564998],\n",
              "       [ 0.02073935],\n",
              "       [-0.00728377],\n",
              "       [ 0.10480869],\n",
              "       [-0.02452876],\n",
              "       [-0.00620595],\n",
              "       [-0.03854032],\n",
              "       [ 0.13714305],\n",
              "       [ 0.17055523],\n",
              "       [ 0.00241654],\n",
              "       [ 0.03798434],\n",
              "       [-0.05794093],\n",
              "       [-0.00943939],\n",
              "       [-0.02345095],\n",
              "       [-0.0105172 ],\n",
              "       [-0.03422907],\n",
              "       [-0.00297252],\n",
              "       [ 0.06816308],\n",
              "       [ 0.00996123],\n",
              "       [ 0.00241654],\n",
              "       [-0.03854032],\n",
              "       [ 0.02612841],\n",
              "       [-0.08919748],\n",
              "       [ 0.06061839],\n",
              "       [-0.02884001],\n",
              "       [-0.02991782],\n",
              "       [-0.0191397 ],\n",
              "       [-0.04069594],\n",
              "       [ 0.01535029],\n",
              "       [-0.02452876],\n",
              "       [ 0.00133873],\n",
              "       [ 0.06924089],\n",
              "       [-0.06979687],\n",
              "       [-0.02991782],\n",
              "       [-0.046085  ],\n",
              "       [ 0.01858372],\n",
              "       [ 0.00133873],\n",
              "       [-0.03099563],\n",
              "       [-0.00405033],\n",
              "       [ 0.01535029],\n",
              "       [ 0.02289497],\n",
              "       [ 0.04552903],\n",
              "       [-0.04500719],\n",
              "       [-0.03315126],\n",
              "       [ 0.097264  ],\n",
              "       [ 0.05415152],\n",
              "       [ 0.12313149],\n",
              "       [-0.08057499],\n",
              "       [ 0.09295276],\n",
              "       [-0.05039625],\n",
              "       [-0.01159501],\n",
              "       [-0.0277622 ],\n",
              "       [ 0.05846277],\n",
              "       [ 0.08540807],\n",
              "       [-0.00081689],\n",
              "       [ 0.00672779],\n",
              "       [ 0.00888341],\n",
              "       [ 0.08001901],\n",
              "       [ 0.07139652],\n",
              "       [-0.02452876],\n",
              "       [-0.0547075 ],\n",
              "       [-0.03638469],\n",
              "       [ 0.0164281 ],\n",
              "       [ 0.07786339],\n",
              "       [-0.03961813],\n",
              "       [ 0.01103904],\n",
              "       [-0.04069594],\n",
              "       [-0.03422907],\n",
              "       [ 0.00564998],\n",
              "       [ 0.08864151],\n",
              "       [-0.03315126],\n",
              "       [-0.05686312],\n",
              "       [-0.03099563],\n",
              "       [ 0.05522933],\n",
              "       [-0.06009656],\n",
              "       [ 0.00133873],\n",
              "       [-0.02345095],\n",
              "       [-0.07410811],\n",
              "       [ 0.01966154],\n",
              "       [-0.01590626],\n",
              "       [-0.01590626],\n",
              "       [ 0.03906215],\n",
              "       [-0.0730303 ]])"
            ]
          },
          "metadata": {},
          "execution_count": 14
        }
      ],
      "source": [
        "# Use one or many feature (visualization is only for one feature)\n",
        "\n",
        "diabetes_X = diabetes.data[:, 2:3] # Try column index 2 first (Body Mass Index)\n",
        "diabetes_X"
      ]
    },
    {
      "cell_type": "code",
      "execution_count": 15,
      "metadata": {
        "colab": {
          "base_uri": "https://localhost:8080/"
        },
        "id": "ScL7yyJ926LY",
        "outputId": "99c8e3db-45d5-4bf9-fda0-8c45a57fe9f4"
      },
      "outputs": [
        {
          "output_type": "execute_result",
          "data": {
            "text/plain": [
              "array([151.,  75., 141., 206., 135.,  97., 138.,  63., 110., 310., 101.,\n",
              "        69., 179., 185., 118., 171., 166., 144.,  97., 168.,  68.,  49.,\n",
              "        68., 245., 184., 202., 137.,  85., 131., 283., 129.,  59., 341.,\n",
              "        87.,  65., 102., 265., 276., 252.,  90., 100.,  55.,  61.,  92.,\n",
              "       259.,  53., 190., 142.,  75., 142., 155., 225.,  59., 104., 182.,\n",
              "       128.,  52.,  37., 170., 170.,  61., 144.,  52., 128.,  71., 163.,\n",
              "       150.,  97., 160., 178.,  48., 270., 202., 111.,  85.,  42., 170.,\n",
              "       200., 252., 113., 143.,  51.,  52., 210.,  65., 141.,  55., 134.,\n",
              "        42., 111.,  98., 164.,  48.,  96.,  90., 162., 150., 279.,  92.,\n",
              "        83., 128., 102., 302., 198.,  95.,  53., 134., 144., 232.,  81.,\n",
              "       104.,  59., 246., 297., 258., 229., 275., 281., 179., 200., 200.,\n",
              "       173., 180.,  84., 121., 161.,  99., 109., 115., 268., 274., 158.,\n",
              "       107.,  83., 103., 272.,  85., 280., 336., 281., 118., 317., 235.,\n",
              "        60., 174., 259., 178., 128.,  96., 126., 288.,  88., 292.,  71.,\n",
              "       197., 186.,  25.,  84.,  96., 195.,  53., 217., 172., 131., 214.,\n",
              "        59.,  70., 220., 268., 152.,  47.,  74., 295., 101., 151., 127.,\n",
              "       237., 225.,  81., 151., 107.,  64., 138., 185., 265., 101., 137.,\n",
              "       143., 141.,  79., 292., 178.,  91., 116.,  86., 122.,  72., 129.,\n",
              "       142.,  90., 158.,  39., 196., 222., 277.,  99., 196., 202., 155.,\n",
              "        77., 191.,  70.,  73.,  49.,  65., 263., 248., 296., 214., 185.,\n",
              "        78.,  93., 252., 150.,  77., 208.,  77., 108., 160.,  53., 220.,\n",
              "       154., 259.,  90., 246., 124.,  67.,  72., 257., 262., 275., 177.,\n",
              "        71.,  47., 187., 125.,  78.,  51., 258., 215., 303., 243.,  91.,\n",
              "       150., 310., 153., 346.,  63.,  89.,  50.,  39., 103., 308., 116.,\n",
              "       145.,  74.,  45., 115., 264.,  87., 202., 127., 182., 241.,  66.,\n",
              "        94., 283.,  64., 102., 200., 265.,  94., 230., 181., 156., 233.,\n",
              "        60., 219.,  80.,  68., 332., 248.,  84., 200.,  55.,  85.,  89.,\n",
              "        31., 129.,  83., 275.,  65., 198., 236., 253., 124.,  44., 172.,\n",
              "       114., 142., 109., 180., 144., 163., 147.,  97., 220., 190., 109.,\n",
              "       191., 122., 230., 242., 248., 249., 192., 131., 237.,  78., 135.,\n",
              "       244., 199., 270., 164.,  72.,  96., 306.,  91., 214.,  95., 216.,\n",
              "       263., 178., 113., 200., 139., 139.,  88., 148.,  88., 243.,  71.,\n",
              "        77., 109., 272.,  60.,  54., 221.,  90., 311., 281., 182., 321.,\n",
              "        58., 262., 206., 233., 242., 123., 167.,  63., 197.,  71., 168.,\n",
              "       140., 217., 121., 235., 245.,  40.,  52., 104., 132.,  88.,  69.,\n",
              "       219.,  72., 201., 110.,  51., 277.,  63., 118.,  69., 273., 258.,\n",
              "        43., 198., 242., 232., 175.,  93., 168., 275., 293., 281.,  72.,\n",
              "       140., 189., 181., 209., 136., 261., 113., 131., 174., 257.,  55.,\n",
              "        84.,  42., 146., 212., 233.,  91., 111., 152., 120.,  67., 310.,\n",
              "        94., 183.,  66., 173.,  72.,  49.,  64.,  48., 178., 104., 132.,\n",
              "       220.,  57.])"
            ]
          },
          "metadata": {},
          "execution_count": 15
        }
      ],
      "source": [
        "diabetes_Y = diabetes.target\n",
        "diabetes_Y"
      ]
    },
    {
      "cell_type": "markdown",
      "metadata": {
        "id": "dvSvF1MI26LY"
      },
      "source": [
        "<br>\n",
        "<br>\n",
        "\n",
        "#### 3. Training & Test set 으로 나눠주기"
      ]
    },
    {
      "cell_type": "code",
      "execution_count": 16,
      "metadata": {
        "collapsed": true,
        "id": "Pepk5p8W26LZ"
      },
      "outputs": [],
      "source": [
        "from sklearn import model_selection\n",
        "\n",
        "x_train, x_test, y_train, y_test = model_selection.train_test_split(diabetes_X, \n",
        "                                                                    diabetes_Y, \n",
        "                                                                    test_size=0.3, \n",
        "                                                                    random_state=0)"
      ]
    },
    {
      "cell_type": "code",
      "execution_count": 17,
      "metadata": {
        "colab": {
          "base_uri": "https://localhost:8080/"
        },
        "id": "6HJ3yBoG26LZ",
        "outputId": "1c730b11-9941-4031-e88a-ca5de9edf38b"
      },
      "outputs": [
        {
          "output_type": "stream",
          "name": "stdout",
          "text": [
            "(309, 1)\n",
            "(133, 1)\n",
            "(309,)\n",
            "(133,)\n"
          ]
        }
      ],
      "source": [
        "print(x_train.shape)\n",
        "print(x_test.shape)\n",
        "print(y_train.shape)\n",
        "print(y_test.shape)"
      ]
    },
    {
      "cell_type": "markdown",
      "metadata": {
        "id": "qRdgFkwT26LZ"
      },
      "source": [
        "<br>\n",
        "<br>\n",
        "\n",
        "#### 4. 비어있는 모델 객체 만들기"
      ]
    },
    {
      "cell_type": "code",
      "execution_count": 18,
      "metadata": {
        "collapsed": true,
        "id": "fQsjo3ap26LZ"
      },
      "outputs": [],
      "source": [
        "# Try simple linear regression first\n",
        "model = linear_model.LinearRegression()"
      ]
    },
    {
      "cell_type": "code",
      "execution_count": 19,
      "metadata": {
        "colab": {
          "base_uri": "https://localhost:8080/"
        },
        "id": "LjSGU10X26La",
        "outputId": "13907ea8-bc70-48ed-f340-ae6c7bde43b6"
      },
      "outputs": [
        {
          "output_type": "execute_result",
          "data": {
            "text/plain": [
              "['ARDRegression',\n",
              " 'BayesianRidge',\n",
              " 'ElasticNet',\n",
              " 'ElasticNetCV',\n",
              " 'GammaRegressor',\n",
              " 'Hinge',\n",
              " 'Huber',\n",
              " 'HuberRegressor',\n",
              " 'Lars',\n",
              " 'LarsCV',\n",
              " 'Lasso',\n",
              " 'LassoCV',\n",
              " 'LassoLars',\n",
              " 'LassoLarsCV',\n",
              " 'LassoLarsIC',\n",
              " 'LinearRegression',\n",
              " 'Log',\n",
              " 'LogisticRegression',\n",
              " 'LogisticRegressionCV',\n",
              " 'ModifiedHuber',\n",
              " 'MultiTaskElasticNet',\n",
              " 'MultiTaskElasticNetCV',\n",
              " 'MultiTaskLasso',\n",
              " 'MultiTaskLassoCV',\n",
              " 'OrthogonalMatchingPursuit',\n",
              " 'OrthogonalMatchingPursuitCV',\n",
              " 'PassiveAggressiveClassifier',\n",
              " 'PassiveAggressiveRegressor',\n",
              " 'Perceptron',\n",
              " 'PoissonRegressor',\n",
              " 'QuantileRegressor',\n",
              " 'RANSACRegressor',\n",
              " 'Ridge',\n",
              " 'RidgeCV',\n",
              " 'RidgeClassifier',\n",
              " 'RidgeClassifierCV',\n",
              " 'SGDClassifier',\n",
              " 'SGDOneClassSVM',\n",
              " 'SGDRegressor',\n",
              " 'SquaredLoss',\n",
              " 'TheilSenRegressor',\n",
              " 'TweedieRegressor',\n",
              " '__all__',\n",
              " '__builtins__',\n",
              " '__cached__',\n",
              " '__doc__',\n",
              " '__file__',\n",
              " '__loader__',\n",
              " '__name__',\n",
              " '__package__',\n",
              " '__path__',\n",
              " '__spec__',\n",
              " '_base',\n",
              " '_bayes',\n",
              " '_cd_fast',\n",
              " '_coordinate_descent',\n",
              " '_glm',\n",
              " '_huber',\n",
              " '_least_angle',\n",
              " '_linear_loss',\n",
              " '_logistic',\n",
              " '_omp',\n",
              " '_passive_aggressive',\n",
              " '_perceptron',\n",
              " '_quantile',\n",
              " '_ransac',\n",
              " '_ridge',\n",
              " '_sag',\n",
              " '_sag_fast',\n",
              " '_sgd_fast',\n",
              " '_stochastic_gradient',\n",
              " '_theil_sen',\n",
              " 'enet_path',\n",
              " 'lars_path',\n",
              " 'lars_path_gram',\n",
              " 'lasso_path',\n",
              " 'orthogonal_mp',\n",
              " 'orthogonal_mp_gram',\n",
              " 'ridge_regression']"
            ]
          },
          "metadata": {},
          "execution_count": 19
        }
      ],
      "source": [
        "dir(linear_model)"
      ]
    },
    {
      "cell_type": "markdown",
      "metadata": {
        "id": "vTLHYwW126La"
      },
      "source": [
        "<br>\n",
        "<br>\n",
        "\n",
        "#### 5. 모델 객체 학습시키기 (on training data)"
      ]
    },
    {
      "cell_type": "code",
      "execution_count": 21,
      "metadata": {
        "colab": {
          "base_uri": "https://localhost:8080/",
          "height": 75
        },
        "id": "DXs-Fxv226La",
        "outputId": "53eceefe-1aff-4cbb-aaba-b6294cc5d7d8"
      },
      "outputs": [
        {
          "output_type": "execute_result",
          "data": {
            "text/plain": [
              "LinearRegression()"
            ],
            "text/html": [
              "<style>#sk-container-id-1 {color: black;background-color: white;}#sk-container-id-1 pre{padding: 0;}#sk-container-id-1 div.sk-toggleable {background-color: white;}#sk-container-id-1 label.sk-toggleable__label {cursor: pointer;display: block;width: 100%;margin-bottom: 0;padding: 0.3em;box-sizing: border-box;text-align: center;}#sk-container-id-1 label.sk-toggleable__label-arrow:before {content: \"▸\";float: left;margin-right: 0.25em;color: #696969;}#sk-container-id-1 label.sk-toggleable__label-arrow:hover:before {color: black;}#sk-container-id-1 div.sk-estimator:hover label.sk-toggleable__label-arrow:before {color: black;}#sk-container-id-1 div.sk-toggleable__content {max-height: 0;max-width: 0;overflow: hidden;text-align: left;background-color: #f0f8ff;}#sk-container-id-1 div.sk-toggleable__content pre {margin: 0.2em;color: black;border-radius: 0.25em;background-color: #f0f8ff;}#sk-container-id-1 input.sk-toggleable__control:checked~div.sk-toggleable__content {max-height: 200px;max-width: 100%;overflow: auto;}#sk-container-id-1 input.sk-toggleable__control:checked~label.sk-toggleable__label-arrow:before {content: \"▾\";}#sk-container-id-1 div.sk-estimator input.sk-toggleable__control:checked~label.sk-toggleable__label {background-color: #d4ebff;}#sk-container-id-1 div.sk-label input.sk-toggleable__control:checked~label.sk-toggleable__label {background-color: #d4ebff;}#sk-container-id-1 input.sk-hidden--visually {border: 0;clip: rect(1px 1px 1px 1px);clip: rect(1px, 1px, 1px, 1px);height: 1px;margin: -1px;overflow: hidden;padding: 0;position: absolute;width: 1px;}#sk-container-id-1 div.sk-estimator {font-family: monospace;background-color: #f0f8ff;border: 1px dotted black;border-radius: 0.25em;box-sizing: border-box;margin-bottom: 0.5em;}#sk-container-id-1 div.sk-estimator:hover {background-color: #d4ebff;}#sk-container-id-1 div.sk-parallel-item::after {content: \"\";width: 100%;border-bottom: 1px solid gray;flex-grow: 1;}#sk-container-id-1 div.sk-label:hover label.sk-toggleable__label {background-color: #d4ebff;}#sk-container-id-1 div.sk-serial::before {content: \"\";position: absolute;border-left: 1px solid gray;box-sizing: border-box;top: 0;bottom: 0;left: 50%;z-index: 0;}#sk-container-id-1 div.sk-serial {display: flex;flex-direction: column;align-items: center;background-color: white;padding-right: 0.2em;padding-left: 0.2em;position: relative;}#sk-container-id-1 div.sk-item {position: relative;z-index: 1;}#sk-container-id-1 div.sk-parallel {display: flex;align-items: stretch;justify-content: center;background-color: white;position: relative;}#sk-container-id-1 div.sk-item::before, #sk-container-id-1 div.sk-parallel-item::before {content: \"\";position: absolute;border-left: 1px solid gray;box-sizing: border-box;top: 0;bottom: 0;left: 50%;z-index: -1;}#sk-container-id-1 div.sk-parallel-item {display: flex;flex-direction: column;z-index: 1;position: relative;background-color: white;}#sk-container-id-1 div.sk-parallel-item:first-child::after {align-self: flex-end;width: 50%;}#sk-container-id-1 div.sk-parallel-item:last-child::after {align-self: flex-start;width: 50%;}#sk-container-id-1 div.sk-parallel-item:only-child::after {width: 0;}#sk-container-id-1 div.sk-dashed-wrapped {border: 1px dashed gray;margin: 0 0.4em 0.5em 0.4em;box-sizing: border-box;padding-bottom: 0.4em;background-color: white;}#sk-container-id-1 div.sk-label label {font-family: monospace;font-weight: bold;display: inline-block;line-height: 1.2em;}#sk-container-id-1 div.sk-label-container {text-align: center;}#sk-container-id-1 div.sk-container {/* jupyter's `normalize.less` sets `[hidden] { display: none; }` but bootstrap.min.css set `[hidden] { display: none !important; }` so we also need the `!important` here to be able to override the default hidden behavior on the sphinx rendered scikit-learn.org. See: https://github.com/scikit-learn/scikit-learn/issues/21755 */display: inline-block !important;position: relative;}#sk-container-id-1 div.sk-text-repr-fallback {display: none;}</style><div id=\"sk-container-id-1\" class=\"sk-top-container\"><div class=\"sk-text-repr-fallback\"><pre>LinearRegression()</pre><b>In a Jupyter environment, please rerun this cell to show the HTML representation or trust the notebook. <br />On GitHub, the HTML representation is unable to render, please try loading this page with nbviewer.org.</b></div><div class=\"sk-container\" hidden><div class=\"sk-item\"><div class=\"sk-estimator sk-toggleable\"><input class=\"sk-toggleable__control sk-hidden--visually\" id=\"sk-estimator-id-1\" type=\"checkbox\" checked><label for=\"sk-estimator-id-1\" class=\"sk-toggleable__label sk-toggleable__label-arrow\">LinearRegression</label><div class=\"sk-toggleable__content\"><pre>LinearRegression()</pre></div></div></div></div></div>"
            ]
          },
          "metadata": {},
          "execution_count": 21
        }
      ],
      "source": [
        "# Train the model using the training sets\n",
        "\n",
        "model.fit(x_train, y_train)"
      ]
    },
    {
      "cell_type": "markdown",
      "metadata": {
        "id": "1UatF6I126La"
      },
      "source": [
        "<br>\n",
        "<br>\n",
        "\n",
        "#### 6. 학습이 끝난 모델 테스트하기 (on test data)"
      ]
    },
    {
      "cell_type": "code",
      "execution_count": 23,
      "metadata": {
        "colab": {
          "base_uri": "https://localhost:8080/"
        },
        "id": "HeRsATzN26Lb",
        "outputId": "2e4d7368-2160-46d3-e67d-2672a86fe9be"
      },
      "outputs": [
        {
          "output_type": "stream",
          "name": "stdout",
          "text": [
            "MSE(Training data) :  3892.7208150824304\n"
          ]
        }
      ],
      "source": [
        "# Train 데이터에 대한 Model 의 Mean squared error \n",
        "print('MSE(Training data) : ', mean_squared_error(y_train, model.predict(x_train)))"
      ]
    },
    {
      "cell_type": "code",
      "execution_count": 27,
      "metadata": {
        "colab": {
          "base_uri": "https://localhost:8080/"
        },
        "id": "8ExWwq1G26Lb",
        "outputId": "c0048240-3fb9-4631-af78-3751fd335245"
      },
      "outputs": [
        {
          "output_type": "stream",
          "name": "stdout",
          "text": [
            "MSE(Test data) :  3921.3720274248517\n"
          ]
        }
      ],
      "source": [
        "# Test 데이터에 대한 Model 의 Mean squared error \n",
        "print('MSE(Test data) : ', mean_squared_error(y_test, model.predict(x_test)))"
      ]
    },
    {
      "cell_type": "code",
      "execution_count": 28,
      "metadata": {
        "colab": {
          "base_uri": "https://localhost:8080/"
        },
        "id": "xz_Ng7z126Lb",
        "outputId": "7a08146c-ce63-4a60-8ea1-1a8bf0a0ee0b"
      },
      "outputs": [
        {
          "output_type": "execute_result",
          "data": {
            "text/plain": [
              "62.62085936351282"
            ]
          },
          "metadata": {},
          "execution_count": 28
        }
      ],
      "source": [
        "# Square root of error\n",
        "np.sqrt( mean_squared_error(model.predict(x_test), y_test) )"
      ]
    },
    {
      "cell_type": "markdown",
      "metadata": {
        "id": "YMbEXKkk26Lb"
      },
      "source": [
        "<br>\n",
        "<br>\n",
        "\n",
        "#### 7. 모델 시각화"
      ]
    },
    {
      "cell_type": "code",
      "execution_count": 29,
      "metadata": {
        "colab": {
          "base_uri": "https://localhost:8080/",
          "height": 830
        },
        "id": "gmzkOs4B26Lb",
        "outputId": "36feae69-5b30-4461-d5db-acf73611c7d6"
      },
      "outputs": [
        {
          "output_type": "display_data",
          "data": {
            "text/plain": [
              "<Figure size 1000x1000 with 1 Axes>"
            ],
            "image/png": "[encoded data removed]"
          },
          "metadata": {}
        }
      ],
      "source": [
        "plt.figure(figsize=(10, 10))\n",
        "\n",
        "plt.scatter(x_test, y_test, color=\"black\") # Test data\n",
        "plt.scatter(x_train, y_train, color=\"red\", s=1) # Train data\n",
        "\n",
        "plt.plot(x_test, model.predict(x_test), color=\"blue\", linewidth=3) # Fitted line\n",
        "\n",
        "plt.show()"
      ]
    },
    {
      "cell_type": "code",
      "source": [
        "plt.figure(figsize=(10, 10))\n",
        "\n",
        "# plt.scatter(diabetes_X[:, :], diabetes_Y)\n",
        "# plt.show()\n",
        "type(diabetes.data)\n",
        "diabetes_X = np.concatenate((diabetes.data[:, 2:3], \n",
        "                            diabetes.data[:, 3:4], \n",
        "                            diabetes.data[:, 8:9], \n",
        "                            diabetes.data[:, 9:10])) \n",
        "print(diabetes.data[:, 2:3].shape, \n",
        "      diabetes.data[:, 3:4].shape, \n",
        "      diabetes.data[:, 8:9].shape, \n",
        "      diabetes.data[:, 9:10].shape)"
      ],
      "metadata": {
        "colab": {
          "base_uri": "https://localhost:8080/",
          "height": 56
        },
        "id": "Zr-DKjKEFAcJ",
        "outputId": "d1d197ba-9f61-45d4-f538-296efbd2bb8f"
      },
      "execution_count": 69,
      "outputs": [
        {
          "output_type": "stream",
          "name": "stdout",
          "text": [
            "(442, 1) (442, 1) (442, 1) (442, 1)\n"
          ]
        },
        {
          "output_type": "display_data",
          "data": {
            "text/plain": [
              "<Figure size 1000x1000 with 0 Axes>"
            ]
          },
          "metadata": {}
        }
      ]
    },
    {
      "cell_type": "code",
      "source": [
        "from sklearn.ensemble import GradientBoostingRegressor"
      ],
      "metadata": {
        "id": "-x07upOeEZuq"
      },
      "execution_count": 38,
      "outputs": []
    },
    {
      "cell_type": "markdown",
      "metadata": {
        "id": "PpP3wJuz26Lc"
      },
      "source": [
        "<br>\n",
        "<br>\n",
        "\n",
        "#### Practice. 더 좋은 성능을 보이는 Feature 를 찾아보세요!"
      ]
    },
    {
      "cell_type": "code",
      "execution_count": 72,
      "metadata": {
        "colab": {
          "base_uri": "https://localhost:8080/"
        },
        "id": "XzufOEAn26Lc",
        "outputId": "80e9bccf-0424-4e3c-f918-e401f4433015"
      },
      "outputs": [
        {
          "output_type": "stream",
          "name": "stdout",
          "text": [
            "MSE(Training data) :  3029.893867712357\n",
            "MSE(Test data) :  3253.7485544275014\n"
          ]
        }
      ],
      "source": [
        "from sklearn import datasets, model_selection, linear_model\n",
        "from sklearn.metrics import mean_squared_error\n",
        "\n",
        "# 1. Prepare the data (array!)\n",
        "diabetes = datasets.load_diabetes()\n",
        "\n",
        "# 2. Feature selection\n",
        "diabetes_X = np.concatenate((diabetes.data[:, 2:3], \n",
        "                            diabetes.data[:, 3:4], \n",
        "                            diabetes.data[:, 8:9], \n",
        "                            diabetes.data[:, 9:10]), axis=1) \n",
        "diabetes_Y = diabetes.target\n",
        "\n",
        "# 3. Train/Test split\n",
        "x_train, x_test, y_train, y_test = model_selection.train_test_split(diabetes_X, \n",
        "                                                                    diabetes_Y, \n",
        "                                                                    test_size=0.3, \n",
        "                                                                    random_state=0)\n",
        "\n",
        "# 4. Create model object \n",
        "model = linear_model.LinearRegression()\n",
        "\n",
        "# 5. Train the model \n",
        "model.fit(x_train, y_train)\n",
        "\n",
        "# 6. Test the model\n",
        "print('MSE(Training data) : ', mean_squared_error(model.predict(x_train), y_train))\n",
        "print('MSE(Test data) : ', mean_squared_error(model.predict(x_test), y_test))\n",
        "\n",
        "# 7. Visualize the model\n",
        "# plt.figure(figsize=(10, 10))\n",
        "# plt.scatter(x_test, y_test, color=\"black\") # Test data\n",
        "# plt.scatter(x_train, y_train, color=\"red\", s=1) # Train data\n",
        "# plt.plot(x_test, model.predict(x_test), color=\"blue\", linewidth=3) # Fitted line\n",
        "# plt.show()"
      ]
    },
    {
      "cell_type": "code",
      "execution_count": null,
      "metadata": {
        "collapsed": true,
        "id": "9yC3yOhA26Lc"
      },
      "outputs": [],
      "source": []
    }
  ],
  "metadata": {
    "kernelspec": {
      "display_name": "Python 3",
      "language": "python",
      "name": "python3"
    },
    "language_info": {
      "codemirror_mode": {
        "name": "ipython",
        "version": 3
      },
      "file_extension": ".py",
      "mimetype": "text/x-python",
      "name": "python",
      "nbconvert_exporter": "python",
      "pygments_lexer": "ipython3",
      "version": "3.8.8"
    },
    "colab": {
      "provenance": [],
      "include_colab_link": true
    }
  },
  "nbformat": 4,
  "nbformat_minor": 0
}